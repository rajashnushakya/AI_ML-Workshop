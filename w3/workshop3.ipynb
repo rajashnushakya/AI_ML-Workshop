{
  "nbformat": 4,
  "nbformat_minor": 0,
  "metadata": {
    "colab": {
      "provenance": []
    },
    "kernelspec": {
      "name": "python3",
      "display_name": "Python 3"
    },
    "language_info": {
      "name": "python"
    }
  },
  "cells": [
    {
      "cell_type": "markdown",
      "source": [
        "# Implementation of MCP Neuron for AND and OR Function."
      ],
      "metadata": {
        "id": "IY-_Zy_b71lD"
      }
    },
    {
      "cell_type": "code",
      "source": [
        "def MCP_Neurons_AND(X1, X2, T):\n",
        "  \"\"\"\n",
        "  This functions implements basic AND operations with MCP Neuron for two inputs.\n",
        "  Arguments:\n",
        "  Inputs:\n",
        "  X1 (1 nd array): An array of binary values.\n",
        "  X2 (1 nd array): An array of binary values.\n",
        "  Output:\n",
        "  state_neuron(1D-list): An state of neuron 1 0r 0 for the particular inputs.\n",
        "  \"\"\"\n",
        "  assert len(X1) == len(X2)\n",
        "  ### YOUR CODE HERE ###\n",
        "  # Perform an element wise addition of two input arrays stored in a new array(list):\n",
        "  # Create a new array to put all the prediction let's name that a state_neuron.\n",
        "  # Append 1 in sate_neuron if sum (element) of above list is above Threshold else append 0.\n",
        "\n",
        "  # Perform element-wise addition and store in a new list\n",
        "  element_sum = [x + y for x, y in zip(X1, X2)]\n",
        "\n",
        "  # Create a list to store neuron states (predictions)\n",
        "  state_neuron = []\n",
        "\n",
        "  # Apply threshold and append to state_neuron\n",
        "  for element in element_sum:\n",
        "    if element >= T:\n",
        "      state_neuron.append(1)\n",
        "    else:\n",
        "      state_neuron.append(0)\n",
        "\n",
        "  return state_neuron"
      ],
      "metadata": {
        "id": "Fu-YDOe_8GJi"
      },
      "execution_count": 1,
      "outputs": []
    },
    {
      "cell_type": "code",
      "source": [
        "# Example usage for MCP_Neurons_AND function\n",
        "X1 = [0, 0, 1, 1]\n",
        "X2 = [0, 1, 0, 1]\n",
        "T = 2  # Threshold value\n",
        "\n",
        "# Call the MCP_Neurons_AND function\n",
        "result = MCP_Neurons_AND(X1, X2, T)\n",
        "\n",
        "# Print the result\n",
        "print(f\"Output of AND gate for inputs {X1} and {X2} with threshold {T}: {result}\")\n"
      ],
      "metadata": {
        "colab": {
          "base_uri": "https://localhost:8080/"
        },
        "id": "e2-lKfat8ocN",
        "outputId": "2e6d9735-b5e4-42ca-ce41-02128773a947"
      },
      "execution_count": 2,
      "outputs": [
        {
          "output_type": "stream",
          "name": "stdout",
          "text": [
            "Output of AND gate for inputs [0, 0, 1, 1] and [0, 1, 0, 1] with threshold 2: [0, 0, 0, 1]\n"
          ]
        }
      ]
    },
    {
      "cell_type": "code",
      "source": [
        "def MCP_Neurons_OR(X1, X2, T):\n",
        "    \"\"\"\n",
        "    This function implements basic OR operations with MCP Neuron for two inputs.\n",
        "    Arguments:\n",
        "    Inputs:\n",
        "    X1 (1D array): An array of binary values.\n",
        "    X2 (1D array): An array of binary values.\n",
        "    Output:\n",
        "    state_neuron (1D list): The state of the neuron (1 or 0) for the particular inputs.\n",
        "    \"\"\"\n",
        "    assert len(X1) == len(X2)\n",
        "    ### YOUR CODE HERE ###\n",
        "    # Perform an element wise addition of two input arrays stored in a new array(list):\n",
        "    # Create a new array to put all the prediction let's name that a state_neuron.\n",
        "    # Append 1 in sate_neuron if sum (element) of above list is above Threshold else append 0.\n",
        "\n",
        "    # Perform element-wise addition and store in a new list\n",
        "    element_sum = [x + y for x, y in zip(X1, X2)]\n",
        "\n",
        "    # Create a list to store neuron states (predictions)\n",
        "    state_neuron = []\n",
        "\n",
        "    # Apply threshold and append to state_neuron\n",
        "    for element in element_sum:\n",
        "      if element >= T:\n",
        "        state_neuron.append(1)\n",
        "      else:\n",
        "        state_neuron.append(0)\n",
        "\n",
        "    return state_neuron\n"
      ],
      "metadata": {
        "id": "7xaMXlLT9FHC"
      },
      "execution_count": 3,
      "outputs": []
    },
    {
      "cell_type": "code",
      "source": [
        "# Example usage for MCP_Neurons_OR function\n",
        "X1 = [0, 0, 1, 1]\n",
        "X2 = [0, 1, 0, 1]\n",
        "T = 1  # Threshold value for OR gate\n",
        "\n",
        "# Call the MCP_Neurons_OR function\n",
        "result_or = MCP_Neurons_OR(X1, X2, T)\n",
        "\n",
        "# Print the result\n",
        "print(f\"Output of OR gate for inputs {X1} and {X2} with threshold {T}: {result_or}\")\n"
      ],
      "metadata": {
        "colab": {
          "base_uri": "https://localhost:8080/"
        },
        "id": "6H-YOy268_Jo",
        "outputId": "e478b44a-b302-4de8-ad13-6d90f60951e5"
      },
      "execution_count": 4,
      "outputs": [
        {
          "output_type": "stream",
          "name": "stdout",
          "text": [
            "Output of OR gate for inputs [0, 0, 1, 1] and [0, 1, 0, 1] with threshold 1: [0, 1, 1, 1]\n"
          ]
        }
      ]
    },
    {
      "cell_type": "markdown",
      "source": [
        "\n",
        "\n",
        "# Implementation for 0 Vs. 1 Classification."
      ],
      "metadata": {
        "id": "Apa9bfLIFJHe"
      }
    },
    {
      "cell_type": "markdown",
      "source": [
        "## Step 1: Load the Dataset"
      ],
      "metadata": {
        "id": "iom83mGLFP_1"
      }
    },
    {
      "cell_type": "code",
      "source": [
        "import pandas as pd\n",
        "import numpy as np\n",
        "import matplotlib.pyplot as plt\n",
        "\n",
        "\n",
        "# Load the dataset\n",
        "df_0_1 = pd.read_csv(\"mnist_0_and_1.csv\")  # Add the correct file path if necessary\n",
        "\n",
        "# Extract features and labels\n",
        "X = df_0_1.drop(columns=[\"label\"]).values  # 784 pixels\n",
        "y = df_0_1[\"label\"].values  # Labels (0 or 1)\n",
        "\n",
        "# Check the shape of the features and labels\n",
        "print(\"Feature matrix shape:\", X.shape)\n",
        "print(\"Label vector shape:\", y.shape)\n"
      ],
      "metadata": {
        "colab": {
          "base_uri": "https://localhost:8080/"
        },
        "id": "7rkW58ct9IYq",
        "outputId": "4564eda6-98de-4b8d-bb29-ad6e176b0437"
      },
      "execution_count": 6,
      "outputs": [
        {
          "output_type": "stream",
          "name": "stdout",
          "text": [
            "Feature matrix shape: (12665, 784)\n",
            "Label vector shape: (12665,)\n"
          ]
        }
      ]
    },
    {
      "cell_type": "markdown",
      "source": [
        "### Viewing the Dataset."
      ],
      "metadata": {
        "id": "jlq0EY2jHheD"
      }
    },
    {
      "cell_type": "code",
      "source": [
        "# Separate images for label 0 and label 1\n",
        "images_0 = X[y == 0]  # Get all images with label 0\n",
        "images_1 = X[y == 1]  # Get all images with label 1\n",
        "\n",
        "fig, axes = plt.subplots(2, 5, figsize=(10, 5))\n",
        "\n",
        "# Check if the arrays have the required amount of data\n",
        "if len(images_0) < 5 or len(images_1) < 5:\n",
        "    print(\"Error: Not enough images in images_0 or images_1 to plot 5 images.\")\n",
        "else:\n",
        "    for i in range(5):\n",
        "        # Plot digit 0\n",
        "        axes[0, i].imshow(images_0[i].reshape(28, 28), cmap=\"gray\")\n",
        "        axes[0, i].set_title(\"Label: 0\")\n",
        "        axes[0, i].axis(\"off\")\n",
        "        # Plot digit 1\n",
        "        axes[1, i].imshow(images_1[i].reshape(28, 28), cmap=\"gray\")\n",
        "        axes[1, i].set_title(\"Label: 1\")\n",
        "        axes[1, i].axis(\"off\")\n",
        "    plt.suptitle(\"First 5 Images of 0 and 1 from MNIST Subset\")\n",
        "    plt.show()"
      ],
      "metadata": {
        "colab": {
          "base_uri": "https://localhost:8080/",
          "height": 360
        },
        "id": "XKY2qjhCHAZ7",
        "outputId": "cee5d08d-b8a7-42f8-d01b-81b6894269de"
      },
      "execution_count": 7,
      "outputs": [
        {
          "output_type": "display_data",
          "data": {
            "text/plain": [
              "<Figure size 1000x500 with 10 Axes>"
            ],
            "image/png": "[encoded data removed]"
          },
          "metadata": {}
        }
      ]
    },
    {
      "cell_type": "markdown",
      "source": [
        "## Step - 2 - Initializing the Weights:"
      ],
      "metadata": {
        "id": "qyM34tbHIqGi"
      }
    },
    {
      "cell_type": "code",
      "source": [
        "# Initialize weights and bias\n",
        "weights = np.zeros(X.shape[1])  # 784 weights (one for each pixel)\n",
        "bias = 0\n",
        "learning_rate = 0.1\n",
        "epochs = 100"
      ],
      "metadata": {
        "id": "SMsXaZ38HfBI"
      },
      "execution_count": 8,
      "outputs": []
    },
    {
      "cell_type": "markdown",
      "source": [
        "## Step - 3 - Make a Decision function:"
      ],
      "metadata": {
        "id": "EvraDxaeRVeo"
      }
    },
    {
      "cell_type": "code",
      "source": [
        "import numpy as np\n",
        "\n",
        "def decision_function(X, weights, bias):\n",
        "    \"\"\"\n",
        "    Compute the predicted labels for the input data.\n",
        "\n",
        "    Parameters:\n",
        "    - X: Features (input data) as a numpy array of shape (n_samples, n_features)\n",
        "    - weights: Updated weights after training\n",
        "    - bias: Updated bias after training\n",
        "\n",
        "    Returns:\n",
        "    - y_pred_all: The predicted labels for the input data\n",
        "    \"\"\"\n",
        "    predictions = np.dot(X, weights) + bias\n",
        "    y_pred_all = np.where(predictions >= 0, 1, 0) # Activation function (step function)\n",
        "    return y_pred_all"
      ],
      "metadata": {
        "id": "6uVj75txLWQi"
      },
      "execution_count": 9,
      "outputs": []
    },
    {
      "cell_type": "markdown",
      "source": [
        "## Step - 3 - Implement the Perceptron Learning Algorithm"
      ],
      "metadata": {
        "id": "AVZNGyRdI4I4"
      }
    },
    {
      "cell_type": "code",
      "source": [
        "def train_perceptron(X, y, weights, bias, learning_rate=0.1, epochs=100):\n",
        "    \"\"\"\n",
        "    Train the perceptron using the Perceptron Learning Algorithm.\n",
        "\n",
        "    Parameters:\n",
        "    - X: Features (input data) as a numpy array of shape (n_samples, n_features)\n",
        "    - y: Labels (true output) as a numpy array of shape (n_samples,)\n",
        "    - weights: Initial weights as a numpy array of shape (n_features,)\n",
        "    - bias: Initial bias value (scalar)\n",
        "    - learning_rate: Learning rate for weight updates (default is 0.1)\n",
        "    - epochs: Number of iterations to train the model (default is 100)\n",
        "\n",
        "    Returns:\n",
        "    - weights: Updated weights after training\n",
        "    - bias: Updated bias after training\n",
        "    - accuracy: Total correct prediction.\n",
        "    \"\"\"\n",
        "    # Step 3: Perceptron Learning Algorithm\n",
        "    for epoch in range(epochs):\n",
        "        for i in range(X.shape[0]):\n",
        "            # Calculate prediction\n",
        "            prediction = np.dot(X[i], weights) + bias\n",
        "            y_pred = 1 if prediction >= 0 else 0\n",
        "\n",
        "            # Update weights and bias if prediction is incorrect\n",
        "            if y_pred != y[i]:\n",
        "                weights = weights + learning_rate * (y[i] - y_pred) * X[i]\n",
        "                bias = bias + learning_rate * (y[i] - y_pred)\n",
        "\n",
        "        # Calculate accuracy for the current epoch\n",
        "        predictions = np.dot(X, weights) + bias\n",
        "        y_pred_all = np.where(predictions >= 0, 1, 0)\n",
        "        accuracy = np.mean(y_pred_all == y)\n",
        "\n",
        "        print(f\"Epoch {epoch}: Accuracy = {accuracy}\")  # Print epoch and accuracy\n",
        "\n",
        "    # Calculate final accuracy\n",
        "    predictions = np.dot(X, weights) + bias\n",
        "    y_pred_all = np.where(predictions >= 0, 1, 0)\n",
        "    accuracy = np.mean(y_pred_all == y)\n",
        "\n",
        "    return weights, bias, accuracy"
      ],
      "metadata": {
        "id": "Dg1ocrycJWpA"
      },
      "execution_count": 10,
      "outputs": []
    },
    {
      "cell_type": "markdown",
      "source": [
        "## Training the Perceptron"
      ],
      "metadata": {
        "id": "Va6AGI6iMAG9"
      }
    },
    {
      "cell_type": "code",
      "source": [
        "# After training the model with the perceptron_learning_algorithm\n",
        "weights, bias, accuracy = train_perceptron(X, y, weights, bias,epochs=epochs)\n",
        "\n",
        "# Evaluate the model using the new function\n",
        "print(\"The Final Accuracy is: \", accuracy)"
      ],
      "metadata": {
        "colab": {
          "base_uri": "https://localhost:8080/"
        },
        "id": "cn8XBYuZLswI",
        "outputId": "3f7e0b37-83e1-48b5-dc2c-5049faa83cf7"
      },
      "execution_count": 11,
      "outputs": [
        {
          "output_type": "stream",
          "name": "stdout",
          "text": [
            "Epoch 0: Accuracy = 0.9988945913936044\n",
            "Epoch 1: Accuracy = 0.9988945913936044\n",
            "Epoch 2: Accuracy = 0.9994472956968022\n",
            "Epoch 3: Accuracy = 0.9997631267272009\n",
            "Epoch 4: Accuracy = 0.9993683379392025\n",
            "Epoch 5: Accuracy = 0.9999210422424003\n",
            "Epoch 6: Accuracy = 0.9996052112120016\n",
            "Epoch 7: Accuracy = 0.9998420844848006\n",
            "Epoch 8: Accuracy = 0.9996052112120016\n",
            "Epoch 9: Accuracy = 0.9992104224240032\n",
            "Epoch 10: Accuracy = 0.9998420844848006\n",
            "Epoch 11: Accuracy = 1.0\n",
            "Epoch 12: Accuracy = 1.0\n",
            "Epoch 13: Accuracy = 1.0\n",
            "Epoch 14: Accuracy = 1.0\n",
            "Epoch 15: Accuracy = 1.0\n",
            "Epoch 16: Accuracy = 1.0\n",
            "Epoch 17: Accuracy = 1.0\n",
            "Epoch 18: Accuracy = 1.0\n",
            "Epoch 19: Accuracy = 1.0\n",
            "Epoch 20: Accuracy = 1.0\n",
            "Epoch 21: Accuracy = 1.0\n",
            "Epoch 22: Accuracy = 1.0\n",
            "Epoch 23: Accuracy = 1.0\n",
            "Epoch 24: Accuracy = 1.0\n",
            "Epoch 25: Accuracy = 1.0\n",
            "Epoch 26: Accuracy = 1.0\n",
            "Epoch 27: Accuracy = 1.0\n",
            "Epoch 28: Accuracy = 1.0\n",
            "Epoch 29: Accuracy = 1.0\n",
            "Epoch 30: Accuracy = 1.0\n",
            "Epoch 31: Accuracy = 1.0\n",
            "Epoch 32: Accuracy = 1.0\n",
            "Epoch 33: Accuracy = 1.0\n",
            "Epoch 34: Accuracy = 1.0\n",
            "Epoch 35: Accuracy = 1.0\n",
            "Epoch 36: Accuracy = 1.0\n",
            "Epoch 37: Accuracy = 1.0\n",
            "Epoch 38: Accuracy = 1.0\n",
            "Epoch 39: Accuracy = 1.0\n",
            "Epoch 40: Accuracy = 1.0\n",
            "Epoch 41: Accuracy = 1.0\n",
            "Epoch 42: Accuracy = 1.0\n",
            "Epoch 43: Accuracy = 1.0\n",
            "Epoch 44: Accuracy = 1.0\n",
            "Epoch 45: Accuracy = 1.0\n",
            "Epoch 46: Accuracy = 1.0\n",
            "Epoch 47: Accuracy = 1.0\n",
            "Epoch 48: Accuracy = 1.0\n",
            "Epoch 49: Accuracy = 1.0\n",
            "Epoch 50: Accuracy = 1.0\n",
            "Epoch 51: Accuracy = 1.0\n",
            "Epoch 52: Accuracy = 1.0\n",
            "Epoch 53: Accuracy = 1.0\n",
            "Epoch 54: Accuracy = 1.0\n",
            "Epoch 55: Accuracy = 1.0\n",
            "Epoch 56: Accuracy = 1.0\n",
            "Epoch 57: Accuracy = 1.0\n",
            "Epoch 58: Accuracy = 1.0\n",
            "Epoch 59: Accuracy = 1.0\n",
            "Epoch 60: Accuracy = 1.0\n",
            "Epoch 61: Accuracy = 1.0\n",
            "Epoch 62: Accuracy = 1.0\n",
            "Epoch 63: Accuracy = 1.0\n",
            "Epoch 64: Accuracy = 1.0\n",
            "Epoch 65: Accuracy = 1.0\n",
            "Epoch 66: Accuracy = 1.0\n",
            "Epoch 67: Accuracy = 1.0\n",
            "Epoch 68: Accuracy = 1.0\n",
            "Epoch 69: Accuracy = 1.0\n",
            "Epoch 70: Accuracy = 1.0\n",
            "Epoch 71: Accuracy = 1.0\n",
            "Epoch 72: Accuracy = 1.0\n",
            "Epoch 73: Accuracy = 1.0\n",
            "Epoch 74: Accuracy = 1.0\n",
            "Epoch 75: Accuracy = 1.0\n",
            "Epoch 76: Accuracy = 1.0\n",
            "Epoch 77: Accuracy = 1.0\n",
            "Epoch 78: Accuracy = 1.0\n",
            "Epoch 79: Accuracy = 1.0\n",
            "Epoch 80: Accuracy = 1.0\n",
            "Epoch 81: Accuracy = 1.0\n",
            "Epoch 82: Accuracy = 1.0\n",
            "Epoch 83: Accuracy = 1.0\n",
            "Epoch 84: Accuracy = 1.0\n",
            "Epoch 85: Accuracy = 1.0\n",
            "Epoch 86: Accuracy = 1.0\n",
            "Epoch 87: Accuracy = 1.0\n",
            "Epoch 88: Accuracy = 1.0\n",
            "Epoch 89: Accuracy = 1.0\n",
            "Epoch 90: Accuracy = 1.0\n",
            "Epoch 91: Accuracy = 1.0\n",
            "Epoch 92: Accuracy = 1.0\n",
            "Epoch 93: Accuracy = 1.0\n",
            "Epoch 94: Accuracy = 1.0\n",
            "Epoch 95: Accuracy = 1.0\n",
            "Epoch 96: Accuracy = 1.0\n",
            "Epoch 97: Accuracy = 1.0\n",
            "Epoch 98: Accuracy = 1.0\n",
            "Epoch 99: Accuracy = 1.0\n",
            "The Final Accuracy is:  1.0\n"
          ]
        }
      ]
    },
    {
      "cell_type": "markdown",
      "source": [
        "## Step 5: Visualize Misclassified Images"
      ],
      "metadata": {
        "id": "-SLq1jbSMKPm"
      }
    },
    {
      "cell_type": "code",
      "source": [
        "# Get predictions for all data points\n",
        "predictions = np.dot(X, weights) + bias\n",
        "y_pred = np.where(predictions >= 0, 1, 0)\n",
        "\n",
        "# Calculate final accuracy\n",
        "final_accuracy = np.mean(y_pred == y)\n",
        "print(f\"Final Accuracy: {final_accuracy:.4f}\")\n",
        "\n",
        "# Step 5: Visualize Misclassified Images\n",
        "misclassified_idx = np.where(y_pred != y)[0]\n",
        "if len(misclassified_idx) > 0:\n",
        "    fig, axes = plt.subplots(2, 5, figsize=(10, 5))\n",
        "    for ax, idx in zip(axes.flat, misclassified_idx[:10]):  # Show 10 misclassified images\n",
        "        ax.imshow(X[idx].reshape(28, 28), cmap=\"gray\")\n",
        "        ax.set_title(f\"Pred: {y_pred[idx]}, True: {y[idx]}\")\n",
        "        ax.axis(\"off\")\n",
        "    plt.suptitle(\"Misclassified Images\")\n",
        "    plt.show()\n",
        "else:\n",
        "    print(\"All images were correctly classified!\")"
      ],
      "metadata": {
        "colab": {
          "base_uri": "https://localhost:8080/"
        },
        "id": "KAMz1RPGMN_A",
        "outputId": "fe0713ab-7497-4ea2-817e-5b7da1fd07bc"
      },
      "execution_count": 12,
      "outputs": [
        {
          "output_type": "stream",
          "name": "stdout",
          "text": [
            "Final Accuracy: 1.0000\n",
            "All images were correctly classified!\n"
          ]
        }
      ]
    },
    {
      "cell_type": "markdown",
      "source": [
        "# Implementation for 3 Vs. 5 Classification."
      ],
      "metadata": {
        "id": "BvOoDInyaUOy"
      }
    },
    {
      "cell_type": "code",
      "source": [
        "import pandas as pd\n",
        "import numpy as np\n",
        "import matplotlib.pyplot as plt\n",
        "\n",
        "\n",
        "# Load the dataset\n",
        "df_3_5 = pd.read_csv(\"mnist_3_and_5.csv\")  # Add the correct file path if necessary\n",
        "\n",
        "# Extract features and labels\n",
        "X = df_3_5.drop(columns=[\"label\"]).values  # 784 pixels\n",
        "y = df_3_5[\"label\"].values  # Labels (3 or 5)\n",
        "\n",
        "  # Check the shape of the features and labels\n",
        "print(\"Feature matrix shape:\", X.shape)\n",
        "print(\"Label vector shape:\", y.shape)\n"
      ],
      "metadata": {
        "colab": {
          "base_uri": "https://localhost:8080/"
        },
        "outputId": "0b910b6f-ebeb-4aa2-b303-a698d7d94c4f",
        "id": "7MQtKAfwal-7"
      },
      "execution_count": 14,
      "outputs": [
        {
          "output_type": "stream",
          "name": "stdout",
          "text": [
            "Feature matrix shape: (2741, 784)\n",
            "Label vector shape: (2741,)\n"
          ]
        }
      ]
    },
    {
      "cell_type": "markdown",
      "source": [
        "### Viewing the Dataset."
      ],
      "metadata": {
        "id": "KLzJi4Otb2qC"
      }
    },
    {
      "cell_type": "code",
      "source": [
        "# Separate images for label 3 and label 5\n",
        "images_3 = X[y == 3]  # Get all images with label 3\n",
        "images_5 = X[y == 5]  # Get all images with label 5\n",
        "\n",
        "fig, axes = plt.subplots(2, 5, figsize=(10, 5))\n",
        "\n",
        "# Check if the arrays have the required amount of data\n",
        "if len(images_3) < 5 or len(images_5) < 5:\n",
        "    print(\"Error: Not enough images in images_3 or images_5 to plot 5 images.\")\n",
        "else:\n",
        "    for i in range(5):\n",
        "        # Plot digit 0\n",
        "        axes[0, i].imshow(images_3[i].reshape(28, 28), cmap=\"gray\")\n",
        "        axes[0, i].set_title(\"Label: 3\")\n",
        "        axes[0, i].axis(\"off\")\n",
        "        # Plot digit 1\n",
        "        axes[1, i].imshow(images_5[i].reshape(28, 28), cmap=\"gray\")\n",
        "        axes[1, i].set_title(\"Label: 5\")\n",
        "        axes[1, i].axis(\"off\")\n",
        "    plt.suptitle(\"First 5 Images of 3 and 5 from MNIST Subset\")\n",
        "    plt.show()"
      ],
      "metadata": {
        "colab": {
          "base_uri": "https://localhost:8080/",
          "height": 360
        },
        "outputId": "d87aa6ea-0beb-469f-f706-7c0afee32310",
        "id": "HsNevFQsb2qE"
      },
      "execution_count": 15,
      "outputs": [
        {
          "output_type": "display_data",
          "data": {
            "text/plain": [
              "<Figure size 1000x500 with 10 Axes>"
            ],
            "image/png": "[encoded data removed]"
          },
          "metadata": {}
        }
      ]
    },
    {
      "cell_type": "markdown",
      "source": [
        "## Step - 2 - Initializing the Weights:"
      ],
      "metadata": {
        "id": "moxaY4kba80y"
      }
    },
    {
      "cell_type": "code",
      "source": [
        "# Initialize weights and bias\n",
        "weights = np.zeros(X.shape[1])  # 784 weights (one for each pixel)\n",
        "bias = 0\n",
        "learning_rate = 0.1\n",
        "epochs = 100"
      ],
      "metadata": {
        "id": "89bYv4Mqa80z"
      },
      "execution_count": 21,
      "outputs": []
    },
    {
      "cell_type": "markdown",
      "source": [
        "## Step - 3 - Make a Decision function:"
      ],
      "metadata": {
        "id": "IGrVuhc6bAK3"
      }
    },
    {
      "cell_type": "code",
      "source": [
        "import numpy as np\n",
        "\n",
        "def decision_function(X, weights, bias):\n",
        "    \"\"\"\n",
        "    Compute the predicted labels for the input data.\n",
        "\n",
        "    Parameters:\n",
        "    - X: Features (input data) as a numpy array of shape (n_samples, n_features)\n",
        "    - weights: Updated weights after training\n",
        "    - bias: Updated bias after training\n",
        "\n",
        "    Returns:\n",
        "    - y_pred_all: The predicted labels for the input data\n",
        "    \"\"\"\n",
        "    predictions = np.dot(X, weights) + bias\n",
        "    y_pred_all = np.where(predictions >= 0, 5, 3)  # Assign 5 if >= 0, else 3\n",
        "    return y_pred_all"
      ],
      "metadata": {
        "id": "Oxs2GyB7bAK4"
      },
      "execution_count": 17,
      "outputs": []
    },
    {
      "cell_type": "markdown",
      "source": [
        "## Step - 3 - Implement the Perceptron Learning Algorithm"
      ],
      "metadata": {
        "id": "6DkoCXumdOJH"
      }
    },
    {
      "cell_type": "code",
      "source": [
        "import numpy as np\n",
        "\n",
        "def train_perceptron(X, y, weights, bias, learning_rate=0.1, epochs=100):\n",
        "    \"\"\"\n",
        "    Train the perceptron using the Perceptron Learning Algorithm.\n",
        "\n",
        "    Parameters:\n",
        "    - X: Features (input data) as a numpy array of shape (n_samples, n_features)\n",
        "    - y: Labels (true output) as a numpy array of shape (n_samples,)\n",
        "    - weights: Initial weights as a numpy array of shape (n_features,)\n",
        "    - bias: Initial bias value (scalar)\n",
        "    - learning_rate: Learning rate for weight updates (default is 0.1)\n",
        "    - epochs: Number of iterations to train the model (default is 100)\n",
        "\n",
        "    Returns:\n",
        "    - weights: Updated weights after training\n",
        "    - bias: Updated bias after training\n",
        "    - accuracy: Final accuracy after training\n",
        "    \"\"\"\n",
        "    for epoch in range(epochs):\n",
        "        correct_predictions = 0  # Track correct predictions\n",
        "        for i in range(len(X)):\n",
        "            prediction = np.dot(X[i], weights) + bias\n",
        "            predicted_label = 1 if prediction >= 0 else 0  # Convert to binary\n",
        "\n",
        "            if y[i] == 0 and prediction >= 0:  # False Positive\n",
        "                weights -= learning_rate * X[i]\n",
        "                bias -= learning_rate\n",
        "\n",
        "            elif y[i] == 1 and prediction < 0:  # False Negative\n",
        "                weights += learning_rate * X[i]\n",
        "                bias += learning_rate\n",
        "\n",
        "            else:  # Correct prediction\n",
        "                correct_predictions += 1\n",
        "\n",
        "        # Compute accuracy\n",
        "        accuracy = correct_predictions / len(X) * 100\n",
        "        print(f\"Epoch {epoch+1}/{epochs} - Accuracy: {accuracy:.2f}%\")\n",
        "\n",
        "    return weights, bias, accuracy\n"
      ],
      "metadata": {
        "id": "1NA9YnFTdOJM"
      },
      "execution_count": 22,
      "outputs": []
    },
    {
      "cell_type": "markdown",
      "source": [
        "## Training the Perceptron"
      ],
      "metadata": {
        "id": "euwZN4t0bY-H"
      }
    },
    {
      "cell_type": "code",
      "source": [
        "# After training the model with the perceptron_learning_algorithm\n",
        "weights, bias, accuracy = train_perceptron(X, y, weights, bias,epochs=epochs)\n",
        "\n",
        "# Evaluate the model using the new function\n",
        "print(\"The Final Accuracy is: \", accuracy)"
      ],
      "metadata": {
        "colab": {
          "base_uri": "https://localhost:8080/"
        },
        "outputId": "7080b6ef-8911-474c-cb57-5a387701268b",
        "id": "NSStv6ldbY-I"
      },
      "execution_count": 23,
      "outputs": [
        {
          "output_type": "stream",
          "name": "stdout",
          "text": [
            "Epoch 1/100 - Accuracy: 100.00%\n",
            "Epoch 2/100 - Accuracy: 100.00%\n",
            "Epoch 3/100 - Accuracy: 100.00%\n",
            "Epoch 4/100 - Accuracy: 100.00%\n",
            "Epoch 5/100 - Accuracy: 100.00%\n",
            "Epoch 6/100 - Accuracy: 100.00%\n",
            "Epoch 7/100 - Accuracy: 100.00%\n",
            "Epoch 8/100 - Accuracy: 100.00%\n",
            "Epoch 9/100 - Accuracy: 100.00%\n",
            "Epoch 10/100 - Accuracy: 100.00%\n",
            "Epoch 11/100 - Accuracy: 100.00%\n",
            "Epoch 12/100 - Accuracy: 100.00%\n",
            "Epoch 13/100 - Accuracy: 100.00%\n",
            "Epoch 14/100 - Accuracy: 100.00%\n",
            "Epoch 15/100 - Accuracy: 100.00%\n",
            "Epoch 16/100 - Accuracy: 100.00%\n",
            "Epoch 17/100 - Accuracy: 100.00%\n",
            "Epoch 18/100 - Accuracy: 100.00%\n",
            "Epoch 19/100 - Accuracy: 100.00%\n",
            "Epoch 20/100 - Accuracy: 100.00%\n",
            "Epoch 21/100 - Accuracy: 100.00%\n",
            "Epoch 22/100 - Accuracy: 100.00%\n",
            "Epoch 23/100 - Accuracy: 100.00%\n",
            "Epoch 24/100 - Accuracy: 100.00%\n",
            "Epoch 25/100 - Accuracy: 100.00%\n",
            "Epoch 26/100 - Accuracy: 100.00%\n",
            "Epoch 27/100 - Accuracy: 100.00%\n",
            "Epoch 28/100 - Accuracy: 100.00%\n",
            "Epoch 29/100 - Accuracy: 100.00%\n",
            "Epoch 30/100 - Accuracy: 100.00%\n",
            "Epoch 31/100 - Accuracy: 100.00%\n",
            "Epoch 32/100 - Accuracy: 100.00%\n",
            "Epoch 33/100 - Accuracy: 100.00%\n",
            "Epoch 34/100 - Accuracy: 100.00%\n",
            "Epoch 35/100 - Accuracy: 100.00%\n",
            "Epoch 36/100 - Accuracy: 100.00%\n",
            "Epoch 37/100 - Accuracy: 100.00%\n",
            "Epoch 38/100 - Accuracy: 100.00%\n",
            "Epoch 39/100 - Accuracy: 100.00%\n",
            "Epoch 40/100 - Accuracy: 100.00%\n",
            "Epoch 41/100 - Accuracy: 100.00%\n",
            "Epoch 42/100 - Accuracy: 100.00%\n",
            "Epoch 43/100 - Accuracy: 100.00%\n",
            "Epoch 44/100 - Accuracy: 100.00%\n",
            "Epoch 45/100 - Accuracy: 100.00%\n",
            "Epoch 46/100 - Accuracy: 100.00%\n",
            "Epoch 47/100 - Accuracy: 100.00%\n",
            "Epoch 48/100 - Accuracy: 100.00%\n",
            "Epoch 49/100 - Accuracy: 100.00%\n",
            "Epoch 50/100 - Accuracy: 100.00%\n",
            "Epoch 51/100 - Accuracy: 100.00%\n",
            "Epoch 52/100 - Accuracy: 100.00%\n",
            "Epoch 53/100 - Accuracy: 100.00%\n",
            "Epoch 54/100 - Accuracy: 100.00%\n",
            "Epoch 55/100 - Accuracy: 100.00%\n",
            "Epoch 56/100 - Accuracy: 100.00%\n",
            "Epoch 57/100 - Accuracy: 100.00%\n",
            "Epoch 58/100 - Accuracy: 100.00%\n",
            "Epoch 59/100 - Accuracy: 100.00%\n",
            "Epoch 60/100 - Accuracy: 100.00%\n",
            "Epoch 61/100 - Accuracy: 100.00%\n",
            "Epoch 62/100 - Accuracy: 100.00%\n",
            "Epoch 63/100 - Accuracy: 100.00%\n",
            "Epoch 64/100 - Accuracy: 100.00%\n",
            "Epoch 65/100 - Accuracy: 100.00%\n",
            "Epoch 66/100 - Accuracy: 100.00%\n",
            "Epoch 67/100 - Accuracy: 100.00%\n",
            "Epoch 68/100 - Accuracy: 100.00%\n",
            "Epoch 69/100 - Accuracy: 100.00%\n",
            "Epoch 70/100 - Accuracy: 100.00%\n",
            "Epoch 71/100 - Accuracy: 100.00%\n",
            "Epoch 72/100 - Accuracy: 100.00%\n",
            "Epoch 73/100 - Accuracy: 100.00%\n",
            "Epoch 74/100 - Accuracy: 100.00%\n",
            "Epoch 75/100 - Accuracy: 100.00%\n",
            "Epoch 76/100 - Accuracy: 100.00%\n",
            "Epoch 77/100 - Accuracy: 100.00%\n",
            "Epoch 78/100 - Accuracy: 100.00%\n",
            "Epoch 79/100 - Accuracy: 100.00%\n",
            "Epoch 80/100 - Accuracy: 100.00%\n",
            "Epoch 81/100 - Accuracy: 100.00%\n",
            "Epoch 82/100 - Accuracy: 100.00%\n",
            "Epoch 83/100 - Accuracy: 100.00%\n",
            "Epoch 84/100 - Accuracy: 100.00%\n",
            "Epoch 85/100 - Accuracy: 100.00%\n",
            "Epoch 86/100 - Accuracy: 100.00%\n",
            "Epoch 87/100 - Accuracy: 100.00%\n",
            "Epoch 88/100 - Accuracy: 100.00%\n",
            "Epoch 89/100 - Accuracy: 100.00%\n",
            "Epoch 90/100 - Accuracy: 100.00%\n",
            "Epoch 91/100 - Accuracy: 100.00%\n",
            "Epoch 92/100 - Accuracy: 100.00%\n",
            "Epoch 93/100 - Accuracy: 100.00%\n",
            "Epoch 94/100 - Accuracy: 100.00%\n",
            "Epoch 95/100 - Accuracy: 100.00%\n",
            "Epoch 96/100 - Accuracy: 100.00%\n",
            "Epoch 97/100 - Accuracy: 100.00%\n",
            "Epoch 98/100 - Accuracy: 100.00%\n",
            "Epoch 99/100 - Accuracy: 100.00%\n",
            "Epoch 100/100 - Accuracy: 100.00%\n",
            "The Final Accuracy is:  100.0\n"
          ]
        }
      ]
    },
    {
      "cell_type": "markdown",
      "source": [
        "## Step 5: Visualize Misclassified Images"
      ],
      "metadata": {
        "id": "Tqpr6lY8bRNN"
      }
    },
    {
      "cell_type": "code",
      "source": [
        "# Get predictions for all data points\n",
        "predictions = np.dot(X, weights) + bias\n",
        "y_pred = np.where(predictions >= 0, 5, 3)\n",
        "\n",
        "# Calculate final accuracy\n",
        "final_accuracy = np.mean(y_pred == y)\n",
        "print(f\"Final Accuracy: {final_accuracy:.4f}\")\n",
        "\n",
        "# Step 5: Visualize Misclassified Images\n",
        "misclassified_idx = np.where(y_pred != y)[0]\n",
        "if len(misclassified_idx) > 0:\n",
        "    fig, axes = plt.subplots(2, 5, figsize=(10, 5))\n",
        "    for ax, idx in zip(axes.flat, misclassified_idx[:10]):  # Show 10 misclassified images\n",
        "        ax.imshow(X[idx].reshape(28, 28), cmap=\"gray\")\n",
        "        ax.set_title(f\"Pred: {y_pred[idx]}, True: {y[idx]}\")\n",
        "        ax.axis(\"off\")\n",
        "    plt.suptitle(\"Misclassified Images\")\n",
        "    plt.show()\n",
        "else:\n",
        "    print(\"All images were correctly classified!\")"
      ],
      "metadata": {
        "colab": {
          "base_uri": "https://localhost:8080/",
          "height": 377
        },
        "outputId": "1175ea04-402a-468b-d3c0-3499be88a90d",
        "id": "MmWJuq4fbRNO"
      },
      "execution_count": 24,
      "outputs": [
        {
          "output_type": "stream",
          "name": "stdout",
          "text": [
            "Final Accuracy: 0.4586\n"
          ]
        },
        {
          "output_type": "display_data",
          "data": {
            "text/plain": [
              "<Figure size 1000x500 with 10 Axes>"
            ],
            "image/png": "[encoded data removed]"
          },
          "metadata": {}
        }
      ]
    }
  ]
}