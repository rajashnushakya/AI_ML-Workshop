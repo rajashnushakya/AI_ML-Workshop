{
 "cells": [
  {
   "cell_type": "markdown",
   "id": "f17dd4a1-6817-4c63-9390-1bcb2467ab06",
   "metadata": {},
   "source": [
    "# Exercise on Functions\n",
    "## Task 1 \n",
    "Create a Python program that converts between different units of measurement.\n",
    "\n",
    "• The program should:\n",
    "1. Prompt the user to choose the type of conversion (e.g., length, weight, volume).\n",
    "2. Ask the user to input the value to be converted.\n",
    "3. Perform the conversion and display the result.\n",
    "4. Handle potential errors, such as invalid input or unsupported conversion types.\n",
    "   \n",
    "• Requirements:\n",
    "1. Functions: Define at least one function to perform the conversion.\n",
    "2. Error Handling: Use try-except blocks to handle invalid input (e.g., non-numeric values).\n",
    "3. User Input: Prompt the user to select the conversion type and input the value.\n",
    "4. Docstrings: Include a docstring in your function to describe its purpose, parameters, and\n",
    "return value.\n",
    "\n",
    "• Conversion Options:\n",
    "1. Length:\n",
    "– Convert meters (m) to feet (ft).\n",
    "– Convert feet (ft) to meters (m).\n",
    "2. Weight:\n",
    "– Convert kilograms (kg) to pounds (lbs).\n",
    "– Convert pounds (lbs) to kilograms (kg).\n",
    "3. Volume:\n",
    "– Convert liters (L) to gallons (gal).\n",
    "– Convert gallons (gal) to liters (L)."
   ]
  },
  {
   "cell_type": "code",
   "execution_count": 1,
   "id": "57a117a5-0698-4c42-bfa4-353bf4c0c381",
   "metadata": {},
   "outputs": [
    {
     "name": "stdout",
     "output_type": "stream",
     "text": [
      "Unit Converter\n",
      "1. Length (meters <-> feet)\n",
      "2. Weight (kilograms <-> pounds)\n",
      "3. Volume (liters <-> gallons)\n"
     ]
    },
    {
     "name": "stdin",
     "output_type": "stream",
     "text": [
      "Choose conversion type (1-3):  1\n",
      "Enter value to convert:  6.2\n",
      "Enter unit ('m' for meters, 'ft' for feet):  ft\n"
     ]
    },
    {
     "name": "stdout",
     "output_type": "stream",
     "text": [
      "Converted Value: 1.89\n"
     ]
    }
   ],
   "source": [
    "def convert_length(value, unit):\n",
    "    \"\"\"\n",
    "    Converts length between meters and feet.\n",
    "    value is converted based on the unit ( m / ft) passed.\n",
    "    Return converted float value. \n",
    "    \"\"\"\n",
    "    if unit == 'm':\n",
    "        return value * 3.28084  \n",
    "    elif unit == 'ft':\n",
    "        return value / 3.28084  \n",
    "    else:\n",
    "        raise ValueError(\"Invalid unit.\")\n",
    "\n",
    "def convert_weight(value, unit):\n",
    "    \"\"\"\n",
    "    Converts weight between kilograms and pounds.\n",
    "    value is converted based in the unit passed.\n",
    "    Converted float value is returned.\n",
    "    \"\"\"\n",
    "    if unit == 'kg':\n",
    "        return value * 2.20462 \n",
    "    elif unit == 'lbs':\n",
    "        return value / 2.20462  \n",
    "    else:\n",
    "        raise ValueError(\"Invalid unit for weight conversion.\")\n",
    "\n",
    "def convert_volume(value, unit):\n",
    "    \"\"\"\n",
    "    Converts volume between liters and gallons.\n",
    "    Value is converted based on the unit passed.\n",
    "    Converted value is returned as a float. \n",
    "    \"\"\"\n",
    "    if unit == 'L':\n",
    "        return value * 0.264172 \n",
    "    elif unit == 'gal':\n",
    "        return value / 0.264172 \n",
    "    else:\n",
    "        raise ValueError(\"Invalid unit for volume conversion.\")\n",
    "\n",
    "print(\"Unit Converter\")\n",
    "print(\"1. Length (meters <-> feet)\")\n",
    "print(\"2. Weight (kilograms <-> pounds)\")\n",
    "print(\"3. Volume (liters <-> gallons)\")\n",
    "\n",
    "try:\n",
    "    choice = int(input(\"Choose conversion type (1-3): \"))\n",
    "    value = float(input(\"Enter value to convert: \"))\n",
    "    \n",
    "    if choice == 1:\n",
    "        unit = input(\"Enter unit ('m' for meters, 'ft' for feet): \").strip().lower()\n",
    "        result = convert_length(value, unit)\n",
    "    elif choice == 2:\n",
    "        unit = input(\"Enter unit ('kg' for kilograms, 'lbs' for pounds): \").strip().lower()\n",
    "        result = convert_weight(value, unit)\n",
    "    elif choice == 3:\n",
    "        unit = input(\"Enter unit ('L' for liters, 'gal' for gallons): \").strip().lower()\n",
    "        result = convert_volume(value, unit)\n",
    "    else:\n",
    "        print(\"Invalid choice.\")\n",
    "    \n",
    "    print(f\"Converted Value: {result:.2f}\")\n",
    "except ValueError as e:\n",
    "    print(f\"Error: {e}\")\n",
    "except Exception:\n",
    "    print(\"An unexpected error occurred.\")\n"
   ]
  },
  {
   "cell_type": "markdown",
   "id": "061d6b05-e17e-4cfb-8e89-231e842f2be9",
   "metadata": {},
   "source": [
    "## Task 2\n",
    "Create a Python program that performs various mathematical operations on a list of numbers.\n",
    "\n",
    "• The Program should:\n",
    "1. Prompt the user to choose an operation (e.g., find the sum, average, maximum, or minimum\n",
    "of the numbers).\n",
    "2. Ask the user to input a list of numbers (separated by spaces).\n",
    "3. Perform the selected operation and display the result.\n",
    "4. Handle potential errors, such as invalid input or empty lists.\n",
    "   \n",
    "• Requirements:\n",
    "\n",
    "1. Functions: Define at least one function for each operation (sum, average, maximum, mini-\n",
    "mum).\n",
    "2. Error Handling: Use try-except blocks to handle invalid input (e.g., non-numeric values or\n",
    "empty lists).\n",
    "3. User Input: Prompt the user to select the operation and input the list of numbers.\n",
    "4. Docstrings: Include a docstring in each function to describe its purpose, parameters, and\n",
    "return value."
   ]
  },
  {
   "cell_type": "code",
   "execution_count": 2,
   "id": "81e60167-28b0-4962-988d-444eb8c600e9",
   "metadata": {},
   "outputs": [
    {
     "name": "stdout",
     "output_type": "stream",
     "text": [
      "Mathematical Operations on a List of Numbers\n",
      "1. Sum\n",
      "2. Average\n",
      "3. Maximum\n",
      "4. Minimum\n"
     ]
    },
    {
     "name": "stdin",
     "output_type": "stream",
     "text": [
      "Choose an operation (1-4):  2\n",
      "Enter numbers separated by spaces:  1 2 3 4 5 \n"
     ]
    },
    {
     "name": "stdout",
     "output_type": "stream",
     "text": [
      "The average of numbers in the list is: 3.00\n"
     ]
    }
   ],
   "source": [
    "def calculate_sum(numbers):\n",
    "    \"\"\"\n",
    "    Calculates the sum of a list of numbers using for loop.\n",
    "    numbers list is passed as a parameter.\n",
    "    The sum value is returned.\n",
    "    \"\"\"\n",
    "    total = 0\n",
    "    for num in numbers:\n",
    "        total += num\n",
    "    return total\n",
    "\n",
    "def calculate_average(numbers):\n",
    "    \"\"\"\n",
    "    Calculates the average of a list of numbers making use of calculate_sum user defined function .\n",
    "    List of numbers is passed.\n",
    "    Average value is returned\n",
    "    \"\"\"\n",
    "    total = calculate_sum(numbers)\n",
    "    return total / len(numbers)\n",
    "\n",
    "def find_maximum(numbers):\n",
    "    \"\"\"\n",
    "    Finds the maximum value in a list of numbers.\n",
    "    Numbers list is passed. \n",
    "    Maximum value is returned.\n",
    "    \"\"\"\n",
    "    if not numbers:\n",
    "        return None\n",
    "    max_value = numbers[0]\n",
    "    for num in numbers:\n",
    "        if num > max_value:\n",
    "            max_value = num\n",
    "    return max_value\n",
    "\n",
    "def find_minimum(numbers):\n",
    "    \"\"\"\n",
    "    Finds the minimum value in a list of numbers.\n",
    "    List of numbers is passed\n",
    "    Minimum value is returned.\n",
    "    \"\"\"\n",
    "    if not numbers:\n",
    "        return None\n",
    "    min_value = numbers[0]\n",
    "    for num in numbers:\n",
    "        if num < min_value:\n",
    "            min_value = num\n",
    "    return min_value\n",
    "\n",
    "\n",
    "print(\"Mathematical Operations on a List of Numbers\")\n",
    "print(\"1. Sum\")\n",
    "print(\"2. Average\")\n",
    "print(\"3. Maximum\")\n",
    "print(\"4. Minimum\")\n",
    "\n",
    "try:\n",
    "    choice = int(input(\"Choose an operation (1-4): \"))\n",
    "    numbers = input(\"Enter numbers separated by spaces: \").split()\n",
    "    numbers = [float(num) for num in numbers]\n",
    "    \n",
    "    if not numbers:\n",
    "        raise ValueError(\"List cannot be empty.\")\n",
    "    \n",
    "    if choice == 1:\n",
    "        result = calculate_sum(numbers)\n",
    "        print(f\"The sum of numbers in the list is: {result:.2f}\")\n",
    "    elif choice == 2:\n",
    "        result = calculate_average(numbers)\n",
    "        print(f\"The average of numbers in the list is: {result:.2f}\")\n",
    "    elif choice == 3:\n",
    "        result = find_maximum(numbers)\n",
    "        print(f\"The maximum number in the list is: {result:.2f}\")\n",
    "    elif choice == 4:\n",
    "        result = find_minimum(numbers)\n",
    "        print(f\"The minimum number in the list is: {result:.2f}\")\n",
    "    else:\n",
    "        print(\"Invalid choice.\")\n",
    "    \n",
    "  \n",
    "except ValueError as e:\n",
    "    print(f\"Error: {e}\")\n",
    "except Exception:\n",
    "    print(\"An unexpected error occurred.\")\n"
   ]
  },
  {
   "cell_type": "markdown",
   "id": "47c94d7e-0c90-4716-922a-296ea2b4f1ab",
   "metadata": {},
   "source": [
    "## List Manipulation\n",
    "# Task 1\n",
    "Write a Python function that extracts every other element from a list, starting from the first element.\n",
    "\n",
    "### • Requirements:\n",
    "\n",
    "– Define a function extract_every_other(lst) that takes a list lst as input and returns a\n",
    "new list containing every other element from the original list.\n",
    "\n",
    "– Example: For the input [1, 2, 3, 4, 5, 6], the output should be [1, 3, 5]."
   ]
  },
  {
   "cell_type": "code",
   "execution_count": 3,
   "id": "37108310-1183-42e2-9ed9-929a9dfc96ae",
   "metadata": {},
   "outputs": [
    {
     "name": "stdout",
     "output_type": "stream",
     "text": [
      "The new list is: [1, 3, 5]\n"
     ]
    }
   ],
   "source": [
    "def extract_every_other(num_list):\n",
    "    \"\"\"\n",
    "    Extract every other number from a list of numbers.\n",
    "    Number list is provided a parameter.\n",
    "    New list with every other item of the list from first is displayed\n",
    "    \n",
    "    \"\"\"\n",
    "    return num_list[::2]\n",
    "\n",
    "sample_list = [1,2,3,4,5,6]\n",
    "new_list = extract_every_other(sample_list)\n",
    "\n",
    "print(\"The new list is:\", new_list)"
   ]
  },
  {
   "cell_type": "markdown",
   "id": "30090f32-1835-40d8-aabc-97dad3f98f55",
   "metadata": {},
   "source": [
    "## Task 2\n",
    "Write a Python function that returns a sublist from a given list, starting from a specified index and\n",
    "ending at another specified index.\n",
    "\n",
    "### • Requirements:\n",
    "\n",
    "– Define a function get_sublist(lst, start, end) that takes a list lst, a starting index\n",
    "start, and an ending index end as input and returns the sublist from start to end (inclusive).\n",
    "\n",
    "– Example: For the input [1, 2, 3, 4, 5, 6] with start=2 and end=4, the output should\n",
    "be [3, 4, 5]."
   ]
  },
  {
   "cell_type": "code",
   "execution_count": 4,
   "id": "7416b28a-aa57-45c0-8899-ad8f924db5c3",
   "metadata": {},
   "outputs": [
    {
     "name": "stdin",
     "output_type": "stream",
     "text": [
      "Enter the start index:  0\n",
      "Enter the end index:  3\n"
     ]
    },
    {
     "name": "stdout",
     "output_type": "stream",
     "text": [
      "The new list is: [1, 2, 3, 4]\n"
     ]
    }
   ],
   "source": [
    "def get_sublist(lst, start, end):\n",
    "    new_list = []\n",
    "    for i in range(start, end + 1):\n",
    "        if 0 <= i < len(lst):  \n",
    "            new_list.append(lst[i])\n",
    "    return new_list\n",
    "\n",
    "sample_list = [1, 2, 3, 4, 5, 6]\n",
    "start = int(input(\"Enter the start index: \"))\n",
    "end = int(input(\"Enter the end index: \"))\n",
    "\n",
    "new_list = get_sublist(sample_list, start, end)\n",
    "print(\"The new list is:\", new_list)\n"
   ]
  },
  {
   "cell_type": "markdown",
   "id": "cd7a1311-5dba-4aba-a047-f22c34f43490",
   "metadata": {},
   "source": [
    "## Task 3\n",
    "Write a Python function that reverses a list using slicing.\n",
    "\n",
    "### • Requirements:\n",
    "\n",
    "– Define a function reverse_list(lst) that takes a list lst and returns a reversed list using\n",
    "slicing.\n",
    "\n",
    "– Example: For the input [1, 2, 3, 4, 5], the output should be [5, 4, 3, 2, 1]."
   ]
  },
  {
   "cell_type": "code",
   "execution_count": 5,
   "id": "817e931f-7e7a-4b91-95d6-c06c030ae6cd",
   "metadata": {},
   "outputs": [
    {
     "name": "stdout",
     "output_type": "stream",
     "text": [
      "Original list: [1, 2, 3, 4, 5, 6]\n",
      "The reversed list is: [6, 5, 4, 3, 2, 1]\n"
     ]
    }
   ],
   "source": [
    "def reverse_list(lst):\n",
    "    return lst[::-1]\n",
    "\n",
    "sample_list = [1,2,3,4,5,6]\n",
    "rev_list = reverse_list(sample_list)\n",
    "\n",
    "print(\"Original list:\", sample_list)\n",
    "print(\"The reversed list is:\", rev_list)"
   ]
  },
  {
   "cell_type": "markdown",
   "id": "a7fd33ee-a6e1-458c-add3-9ad737a2c324",
   "metadata": {},
   "source": [
    "## Task 4\n",
    "Write a Python function that removes the first and last elements of a list and returns the resulting\n",
    "sublist.\n",
    "\n",
    "### • Requirements:\n",
    "\n",
    "– Define a function remove_first_last(lst) that takes a list lst and returns a sublist without\n",
    "the first and last elements using slicing.\n",
    "\n",
    "– Example: For the input [1, 2, 3, 4, 5], the output should be [2, 3, 4]."
   ]
  },
  {
   "cell_type": "code",
   "execution_count": 6,
   "id": "9865f1f3-f671-412e-aab1-ad8e31f9e75a",
   "metadata": {},
   "outputs": [
    {
     "name": "stdout",
     "output_type": "stream",
     "text": [
      "The new list is: [2, 3, 4, 5]\n"
     ]
    }
   ],
   "source": [
    "def remove_first_last(lst):\n",
    "    return lst[1:-1]\n",
    "\n",
    "sample_list = [1,2,3,4,5,6]\n",
    "result = remove_first_last(sample_list)\n",
    "\n",
    "print(\"The new list is:\", result)"
   ]
  },
  {
   "cell_type": "markdown",
   "id": "28e0fb90-81a4-4a1b-9dcf-70021e29b794",
   "metadata": {},
   "source": [
    "## Task 5\n",
    "Write a Python function that extracts the first n elements from a list.\n",
    "\n",
    "### • Requirements:\n",
    "\n",
    "– Define a function get_first_n(lst, n) that takes a list lst and an integer n as input and\n",
    "returns the first n elements of the list using slicing.\n",
    "\n",
    "– Example: For the input [1, 2, 3, 4, 5] with n=3, the output should be [1, 2, 3]."
   ]
  },
  {
   "cell_type": "code",
   "execution_count": 7,
   "id": "68d6dcad-8460-4927-be76-29eece1942e9",
   "metadata": {},
   "outputs": [
    {
     "name": "stdin",
     "output_type": "stream",
     "text": [
      "Enter the number of elements: 4\n"
     ]
    },
    {
     "name": "stdout",
     "output_type": "stream",
     "text": [
      "Result: [1, 2, 3, 4]\n"
     ]
    }
   ],
   "source": [
    "def get_first_n(lst, n):\n",
    "    return lst[:n]\n",
    "\n",
    "num = int(input(\"Enter the number of elements:\"))\n",
    "sample_list = [1,2,3,4,5,6]\n",
    "\n",
    "print(\"Result:\", get_first_n(sample_list, num))"
   ]
  },
  {
   "cell_type": "markdown",
   "id": "b3dd88c1-8fdd-4c76-b6ae-d781210bfbdf",
   "metadata": {},
   "source": [
    "## Task 6\n",
    "Write a Python function that extracts the last n elements of a list using slicing.\n",
    "\n",
    "### • Requirements:\n",
    "\n",
    "– Define a function get_last_n(lst, n) that takes a list lst and an integer n as input and\n",
    "returns the last n elements of the list.\n",
    "\n",
    "– Example: For the input [1, 2, 3, 4, 5] with n=2, the output should be [4, 5]."
   ]
  },
  {
   "cell_type": "code",
   "execution_count": 8,
   "id": "8c001dcf-296e-4ecd-a4f9-cf82ac4255cb",
   "metadata": {
    "jp-MarkdownHeadingCollapsed": true
   },
   "outputs": [
    {
     "name": "stdin",
     "output_type": "stream",
     "text": [
      "Enter the number of elements: 5\n"
     ]
    },
    {
     "name": "stdout",
     "output_type": "stream",
     "text": [
      "Result: [2, 3, 4, 5, 6]\n"
     ]
    }
   ],
   "source": [
    "def get_last_n(lst, n):\n",
    "    return lst[-n:]\n",
    "\n",
    "num = int(input(\"Enter the number of elements:\"))\n",
    "sample_list = [1,2,3,4,5,6]\n",
    "\n",
    "print(\"Result:\", get_last_n(sample_list, num))"
   ]
  },
  {
   "cell_type": "markdown",
   "id": "65910ac8-0e98-4c7e-8c3d-4e942e690753",
   "metadata": {},
   "source": [
    "## Task 7\n",
    "Write a Python function that extracts a list of elements in reverse order starting from the second-to-last\n",
    "element and skipping one element in between.\n",
    "\n",
    "### • Requirements:\n",
    "\n",
    "– Define a function reverse_skip(lst) that takes a list lst and returns a new list containing\n",
    "every second element starting from the second-to-last, moving backward.\n",
    "\n",
    "– Example: For the input [1, 2, 3, 4, 5, 6], the output should be [5, 3, 1]."
   ]
  },
  {
   "cell_type": "code",
   "execution_count": 9,
   "id": "2ca6b7db-fc6e-4b51-97c3-9274b795a0c4",
   "metadata": {},
   "outputs": [
    {
     "name": "stdout",
     "output_type": "stream",
     "text": [
      "Result: [5, 3, 1]\n"
     ]
    }
   ],
   "source": [
    "def reverse_skip(lst):\n",
    "    return lst[-2::-2]\n",
    "\n",
    "sample_list = [1,2,3,4,5,6]\n",
    "print(\"Result:\", reverse_skip(sample_list))"
   ]
  },
  {
   "cell_type": "markdown",
   "id": "2d37abb0-1666-4682-8490-4b51ab55159e",
   "metadata": {},
   "source": [
    "# Exercise on Nested Lists\n",
    "\n",
    "## Task 1\n",
    "\n",
    "Write a Python function that takes a nested list and flattens it into a single list, where all the elements\n",
    "are in a single dimension.\n",
    "\n",
    "### • Requirements:\n",
    "\n",
    "– Define a function flatten(lst) that takes a nested list lst and returns a flattened version\n",
    "of the list.\n",
    "\n",
    "– Example: For the input [[1, 2], [3, 4], [5]], the output should be [1, 2, 3, 4, 5]."
   ]
  },
  {
   "cell_type": "code",
   "execution_count": 10,
   "id": "45a4e850-8a9a-4d7a-82ef-19af8843ee45",
   "metadata": {},
   "outputs": [
    {
     "name": "stdout",
     "output_type": "stream",
     "text": [
      "Flattened list: [1, 2, 3, 4, 5, 6]\n"
     ]
    }
   ],
   "source": [
    "def flatten(lst):\n",
    "    flat_list = []\n",
    "    for i in lst:\n",
    "        for j in i:\n",
    "            flat_list.append(j)\n",
    "    return flat_list\n",
    "\n",
    "nested_list = [[1,2],[3,4],[5,6]]\n",
    "print(\"Flattened list:\", flatten(nested_list))"
   ]
  },
  {
   "cell_type": "markdown",
   "id": "cd5aaefd-036b-4ced-9a01-15b04ca23e20",
   "metadata": {},
   "source": [
    "## Task 2\n",
    "Write a Python function that extracts a specific element from a nested list given its indices.\n",
    "\n",
    "### • Requirements:\n",
    "\n",
    "– Define a function access_nested_element(lst, indices) that takes a nested list lst and\n",
    "a list of indices indices, and returns the element at that position.\n",
    "\n",
    "– Example: For the input lst = [[1, 2, 3], [4, 5, 6], [7, 8, 9]] with indices = [1,\n",
    "2], the output should be 6."
   ]
  },
  {
   "cell_type": "code",
   "execution_count": 11,
   "id": "62e080de-4a4b-4039-af03-49c6f3cb8ea1",
   "metadata": {},
   "outputs": [
    {
     "name": "stdout",
     "output_type": "stream",
     "text": [
      "Result: 8\n"
     ]
    }
   ],
   "source": [
    "def access_nested_element(lst, indices):\n",
    "    element=lst\n",
    "    for index in indices:\n",
    "        element = element[index]\n",
    "\n",
    "    return element\n",
    "\n",
    "sample_list = [[1,2,3],[4,5,6],[7,8,9]]\n",
    "indices = [2,1]\n",
    "\n",
    "print(\"Result:\", access_nested_element(sample_list, indices))\n",
    "    "
   ]
  },
  {
   "cell_type": "markdown",
   "id": "aab15f40-f107-4865-afcb-5f3a08ac1e56",
   "metadata": {},
   "source": [
    "## Task 3\n",
    "\n",
    "Write a Python function that calculates the sum of all the numbers in a nested list (regardless of depth).\n",
    "\n",
    "### • Requirements:\n",
    "\n",
    "– Define a function sum_nested(lst) that takes a nested list lst and returns the sum of all\n",
    "the elements.\n",
    "\n",
    "– Example: For the input [[1, 2], [3, [4, 5]], 6], the output should be 21."
   ]
  },
  {
   "cell_type": "code",
   "execution_count": 12,
   "id": "045d9f50-2ed4-46ab-bef0-2097a697e18f",
   "metadata": {},
   "outputs": [
    {
     "name": "stdout",
     "output_type": "stream",
     "text": [
      "The sum of elements is: 21\n"
     ]
    }
   ],
   "source": [
    "def sum_nested(lst):\n",
    "    sum = 0\n",
    "    for num in lst:\n",
    "        if isinstance(num, list):\n",
    "            sum += sum_nested(num)\n",
    "        elif isinstance(num, (int, float)):\n",
    "            sum += num\n",
    "    return sum\n",
    "\n",
    "sample_list =  [[1, 2], [3, [4, 5]], 6]\n",
    "result = sum_nested(sample_list)\n",
    "print(\"The sum of elements is:\", result)\n",
    "        "
   ]
  },
  {
   "cell_type": "markdown",
   "id": "8d8a0aba-90b9-487c-ba03-076c65a1aa07",
   "metadata": {},
   "source": [
    "## Task 4\n",
    "\n",
    "Write a Python function that removes all occurrences of a specific element from a nested list.\n",
    "\n",
    "### • Requirements:\n",
    "\n",
    "– Define a function remove_element(lst, elem) that removes elem from lst and returns the\n",
    "modified list.\n",
    "\n",
    "– Example: For the input lst = [[1, 2], [3, 2], [4, 5]] and elem = 2, the output should\n",
    "be [[1], [3], [4, 5]]."
   ]
  },
  {
   "cell_type": "code",
   "execution_count": 13,
   "id": "ef221083-5078-45b2-a06d-64c41192541b",
   "metadata": {},
   "outputs": [
    {
     "name": "stdout",
     "output_type": "stream",
     "text": [
      "New List: [[1], [3], [4, 5]]\n"
     ]
    }
   ],
   "source": [
    "def remove_element(lst, elm):\n",
    "    new_lst=[]\n",
    "    for num in lst:\n",
    "        if isinstance(num, list):\n",
    "            sub_list = remove_element(num, elm)\n",
    "            if sub_list:\n",
    "                new_lst.append(sub_list)\n",
    "        elif num != elm:\n",
    "            new_lst.append(num)\n",
    "    return new_lst\n",
    "\n",
    "sample_list =  [[1, 2], [3, 2], [4, 5]]\n",
    "element = 2\n",
    "print(\"New List:\", remove_element(sample_list, element))"
   ]
  },
  {
   "cell_type": "markdown",
   "id": "22f9fe35-be8e-46a6-bd0c-5fae2505e28c",
   "metadata": {},
   "source": [
    "## Task 5\n",
    "Write a Python function that finds the maximum element in a nested list (regardless of depth).\n",
    "\n",
    "### • Requirements:\n",
    "\n",
    "– Define a function find_max(lst) that takes a nested list lst and returns the maximum\n",
    "element.\n",
    "\n",
    "– Example: For the input [[1, 2], [3, [4, 5]], 6], the output should be 6."
   ]
  },
  {
   "cell_type": "code",
   "execution_count": 14,
   "id": "caf9fede-96b5-411e-a2b8-eb3e5bcf5025",
   "metadata": {},
   "outputs": [
    {
     "name": "stdout",
     "output_type": "stream",
     "text": [
      "The maximum number in the list is: 7\n"
     ]
    }
   ],
   "source": [
    "def find_max(lst):\n",
    "    max_num = float(0)\n",
    "    for num in lst:\n",
    "        if isinstance(num, list):\n",
    "            max_num = max(max_num, find_max(num))\n",
    "        else:\n",
    "            max_num = max(max_num, num)\n",
    "    return max_num\n",
    "\n",
    "sample_list = [[1, 2], [3, [4, 7]], 6]\n",
    "print(\"The maximum number in the list is:\", find_max(sample_list))"
   ]
  },
  {
   "cell_type": "markdown",
   "id": "57b110b4-235f-45c0-88a3-3c0694ea7aae",
   "metadata": {},
   "source": [
    "## Task 6\n",
    "Write a Python function that counts how many times a specific element appears in a nested list.\n",
    "\n",
    "### • Requirements:\n",
    "\n",
    "– Define a function count_occurrences(lst, elem) that counts the occurrences of elem in\n",
    "the nested list lst.\n",
    "\n",
    "– Example: For the input lst = [[1, 2], [2, 3], [2, 4]] and elem = 2, the output should\n",
    "be 3."
   ]
  },
  {
   "cell_type": "code",
   "execution_count": 15,
   "id": "3445cd21-d65a-4263-a920-dadd249f6620",
   "metadata": {},
   "outputs": [
    {
     "name": "stdout",
     "output_type": "stream",
     "text": [
      "The number of 2 in the list is: 3\n"
     ]
    }
   ],
   "source": [
    "def count_occurences(lst, element):\n",
    "    count = 0\n",
    "    for num in lst:\n",
    "        if isinstance(num, list):\n",
    "            count += count_occurences(num, element)\n",
    "        elif num == element:\n",
    "            count += 1\n",
    "    return count\n",
    "\n",
    "sample_list =  [[1, 2], [2, 3], [2, 4]]\n",
    "element = 2\n",
    "print(f\"The number of {element} in the list is:\", count_occurences(sample_list, element))"
   ]
  },
  {
   "cell_type": "markdown",
   "id": "6845c4f3-727a-4396-8741-7770e8ff731e",
   "metadata": {},
   "source": [
    "## Task 7\n",
    "Write a Python function that flattens a list of lists of lists into a single list, regardless of the depth.\n",
    "\n",
    "### • Requirements:\n",
    "\n",
    "– Define a function deep_flatten(lst) that takes a deeply nested list lst and returns a single\n",
    "flattened list.\n",
    "\n",
    "– Example: For the input [[[1, 2], [3, 4]], [[5, 6], [7, 8]]], the output should be\n",
    "[1, 2, 3, 4, 5, 6, 7, 8]."
   ]
  },
  {
   "cell_type": "code",
   "execution_count": 16,
   "id": "3679a2e1-fc08-4541-a823-79eb14296f00",
   "metadata": {},
   "outputs": [
    {
     "name": "stdout",
     "output_type": "stream",
     "text": [
      "New flattened list is: [1, 2, 3, 4, 5, 6, 7, 8]\n"
     ]
    }
   ],
   "source": [
    "def deep_flatten(lst):\n",
    "    new_list = []\n",
    "    for item in lst:\n",
    "        if isinstance(item, list):\n",
    "            new_list.extend(deep_flatten(item))\n",
    "        else:\n",
    "            new_list.append(item)\n",
    "    return new_list\n",
    "\n",
    "sample_list = [[[1, 2], [3, 4]], [[5, 6], [7, 8]]]\n",
    "print(\"New flattened list is:\", deep_flatten(sample_list))"
   ]
  },
  {
   "cell_type": "markdown",
   "id": "f077cf64-cd01-4237-9e56-4944fd4864cf",
   "metadata": {},
   "source": [
    "## Task 8\n",
    "Write a Python function that calculates the average of all elements in a nested list.\n",
    "\n",
    "### • Requirements:\n",
    "\n",
    "– Define a function average_nested(lst) that takes a nested list lst and returns the average\n",
    "of all the elements.\n",
    "\n",
    "– Example: For the input [[1, 2], [3, 4], [5, 6]], the output should be 3.5."
   ]
  },
  {
   "cell_type": "code",
   "execution_count": 17,
   "id": "54a4688f-f590-47fc-b141-abb772fc6511",
   "metadata": {},
   "outputs": [
    {
     "name": "stdout",
     "output_type": "stream",
     "text": [
      "The average is: 3.5\n"
     ]
    }
   ],
   "source": [
    "def average_nested(lst):\n",
    "    def helper(current_list):\n",
    "        total = 0.0\n",
    "        count = 0\n",
    "        for element in current_list:\n",
    "            if isinstance(element, list):\n",
    "                sub_total, sub_count = helper(element)\n",
    "                total += sub_total\n",
    "                count += sub_count\n",
    "            elif isinstance(element, (int, float)) and not isinstance(element, bool):\n",
    "                total += element\n",
    "                count += 1\n",
    "        return total, count\n",
    "    \n",
    "    total_sum, total_count = helper(lst)\n",
    "    return total_sum / total_count if total_count != 0 else 0.0\n",
    "\n",
    "sample_list = [[1, 2], [3, 4], [5, 6]]\n",
    "print(\"The average is:\", average_nested(sample_list))"
   ]
  },
  {
   "cell_type": "markdown",
   "id": "ae609307-a20c-41b8-8007-57c7a377a291",
   "metadata": {},
   "source": [
    "# Basic Vector and Matrix Operation with Numpy\n",
    "## Problem 1: Array Creation"
   ]
  },
  {
   "cell_type": "code",
   "execution_count": 18,
   "id": "14a03b88-3f50-488b-8247-da2e41b1ef9f",
   "metadata": {},
   "outputs": [],
   "source": [
    "import numpy as np\n"
   ]
  },
  {
   "cell_type": "markdown",
   "id": "9abd3f13-3072-49c9-a71b-33f4cd3942c8",
   "metadata": {},
   "source": [
    "## Problem 1.1 \n",
    "Initialize an empty array with size 2X2"
   ]
  },
  {
   "cell_type": "code",
   "execution_count": 19,
   "id": "464d6baa-822f-4c9c-9ab0-7d9f1185b251",
   "metadata": {},
   "outputs": [
    {
     "name": "stdout",
     "output_type": "stream",
     "text": [
      "Empty array: [[0 0]\n",
      " [0 0]]\n"
     ]
    }
   ],
   "source": [
    "array = np.empty((2,2))\n",
    "print(\"Empty array:\", array.astype(int))"
   ]
  },
  {
   "cell_type": "markdown",
   "id": "9b55fcd8-8fb9-4c3f-97fd-38bde956e4c5",
   "metadata": {},
   "source": [
    "## Problem 1.2\n",
    "Initialize an all one array with size 4X2"
   ]
  },
  {
   "cell_type": "code",
   "execution_count": 20,
   "id": "db3ea1b8-374c-4a68-89a9-ebb69c09ad48",
   "metadata": {},
   "outputs": [
    {
     "name": "stdout",
     "output_type": "stream",
     "text": [
      "Ones array: [[1. 1.]\n",
      " [1. 1.]\n",
      " [1. 1.]\n",
      " [1. 1.]]\n"
     ]
    }
   ],
   "source": [
    "array = np.ones((4,2))\n",
    "print(\"Ones array:\", array)"
   ]
  },
  {
   "cell_type": "markdown",
   "id": "414de9e0-46ad-4e4b-b730-4397477466a7",
   "metadata": {},
   "source": [
    "## Problem 1.3\n",
    "Return a new array of given shape and type, filled with fill value.{Hint: np.full}"
   ]
  },
  {
   "cell_type": "code",
   "execution_count": 21,
   "id": "b54113dd-6e2a-4f91-a949-2aee5259d559",
   "metadata": {},
   "outputs": [
    {
     "name": "stdin",
     "output_type": "stream",
     "text": [
      "Enter the number of rows: 2\n",
      " Enter the number of columns: 3\n",
      "Enter the value to fill: 3\n",
      "Enter data type(int, float, str: str\n"
     ]
    },
    {
     "name": "stdout",
     "output_type": "stream",
     "text": [
      "[['3' '3' '3']\n",
      " ['3' '3' '3']]\n"
     ]
    }
   ],
   "source": [
    "row = int(input(\"Enter the number of rows:\"))\n",
    "column = int(input(\" Enter the number of columns:\"))\n",
    "\n",
    "value = int(input(\"Enter the value to fill:\"))\n",
    "data_type = input(\"Enter data type(int, float, str:\")\n",
    "\n",
    "array = np.full((row, column), value, dtype = data_type)\n",
    "print(array)"
   ]
  },
  {
   "cell_type": "markdown",
   "id": "c11e8e95-9577-4f3f-8e91-142814a69584",
   "metadata": {},
   "source": [
    "## Problem 1.4\n",
    "Return a new array of zeros with same shape and type as a given array.{Hint: np.zeros like}"
   ]
  },
  {
   "cell_type": "code",
   "execution_count": 22,
   "id": "e3ab94d1-3421-4ead-996e-bd3d7584eb1a",
   "metadata": {},
   "outputs": [
    {
     "name": "stdout",
     "output_type": "stream",
     "text": [
      "Given array:\n",
      " [[1 2]\n",
      " [3 4]\n",
      " [5 6]]\n",
      "New array with zeros:\n",
      " [[0 0]\n",
      " [0 0]\n",
      " [0 0]]\n"
     ]
    }
   ],
   "source": [
    "arr = np.array([[1,2],[3,4],[5,6]])\n",
    "new_arr = np.zeros_like(arr)\n",
    "\n",
    "print(\"Given array:\\n\", arr)\n",
    "print(\"New array with zeros:\\n\", new_arr)"
   ]
  },
  {
   "cell_type": "markdown",
   "id": "a6c7adf6-c314-471c-8566-8d7268d97650",
   "metadata": {},
   "source": [
    "## Problem 1.5\n",
    "Return a new array of ones with same shape and type as a given array.{Hint: np.ones like}"
   ]
  },
  {
   "cell_type": "code",
   "execution_count": 23,
   "id": "d8d4ca04-3d9c-4dcd-9cf6-3fc8bc733dd3",
   "metadata": {},
   "outputs": [
    {
     "name": "stdout",
     "output_type": "stream",
     "text": [
      "Given array:\n",
      " [[1 2 3 4]\n",
      " [5 6 7 8]]\n",
      "New array:\n",
      " [[1 1 1 1]\n",
      " [1 1 1 1]]\n"
     ]
    }
   ],
   "source": [
    "arr = np.array([[1,2,3,4],[5,6,7,8]])\n",
    "new_arr = np.ones_like(arr)\n",
    "\n",
    "print(\"Given array:\\n\",arr)\n",
    "print(\"New array:\\n\", new_arr)"
   ]
  },
  {
   "cell_type": "markdown",
   "id": "fe412c66-3689-4f4d-bb35-2e11b44e9a54",
   "metadata": {},
   "source": [
    "## Problem 1.6\n",
    "For an existing list new_list = [1,2,3,4] convert to an numpy array.{Hint: np.array()}"
   ]
  },
  {
   "cell_type": "code",
   "execution_count": 24,
   "id": "e5a11e37-4827-4e8e-8859-4173380fb66d",
   "metadata": {},
   "outputs": [
    {
     "name": "stdout",
     "output_type": "stream",
     "text": [
      "Given list:\n",
      " [1, 2, 3, 4]\n",
      "Numpy array:\n",
      " [1 2 3 4]\n"
     ]
    }
   ],
   "source": [
    "new_list = [1,2,3,4]\n",
    "arr = np.array(new_list)\n",
    "\n",
    "print(\"Given list:\\n\", new_list)\n",
    "print(\"Numpy array:\\n\", arr)"
   ]
  },
  {
   "cell_type": "markdown",
   "id": "f787c9d3-452a-4232-ac97-63ffe1509fd2",
   "metadata": {},
   "source": [
    "## Problem 2: Array Manipulation, Nemuerical Ranges and Array Indexing\n",
    "## Problem 2.1\n",
    "Create an array with values ranging from 10 to 49. {Hint:np.arrange()}."
   ]
  },
  {
   "cell_type": "code",
   "execution_count": 25,
   "id": "a17817e5-e5c4-47e9-880d-7d8bb6053958",
   "metadata": {},
   "outputs": [
    {
     "name": "stdout",
     "output_type": "stream",
     "text": [
      "Array ranging from 10 to 49: [10 11 12 13 14 15 16 17 18 19 20 21 22 23 24 25 26 27 28 29 30 31 32 33\n",
      " 34 35 36 37 38 39 40 41 42 43 44 45 46 47 48 49]\n"
     ]
    }
   ],
   "source": [
    "arr = np.arange(10, 50)\n",
    "\n",
    "print(\"Array ranging from 10 to 49:\", arr)"
   ]
  },
  {
   "cell_type": "markdown",
   "id": "531700bf-bb7a-4f5a-a7c1-3efe68144253",
   "metadata": {},
   "source": [
    "## Problem 2.2\n",
    "Create a 3X3 matrix with values ranging from 0 to 8.\n",
    "{Hint:look for np.reshape()}"
   ]
  },
  {
   "cell_type": "code",
   "execution_count": 26,
   "id": "99def3f4-59de-4018-806b-65ca2ca77849",
   "metadata": {},
   "outputs": [
    {
     "name": "stdout",
     "output_type": "stream",
     "text": [
      "Array:\n",
      " [0 1 2 3 4 5 6 7 8]\n",
      "Matrix:\n",
      " [[0 1 2]\n",
      " [3 4 5]\n",
      " [6 7 8]]\n"
     ]
    }
   ],
   "source": [
    "arr = np.arange(0,9)\n",
    "matrix = arr.reshape(3,3)\n",
    "\n",
    "print(\"Array:\\n\",arr)\n",
    "print(\"Matrix:\\n\", matrix)"
   ]
  },
  {
   "cell_type": "markdown",
   "id": "c8afc5c1-2ef1-4b3d-a651-69a3c3880a91",
   "metadata": {},
   "source": [
    "## Problem 2.3\n",
    "Create a 3X3 identity matrix.{Hint:np.eye()}"
   ]
  },
  {
   "cell_type": "code",
   "execution_count": 27,
   "id": "32ee1636-fdc2-4a11-80ba-30be2868550a",
   "metadata": {},
   "outputs": [
    {
     "name": "stdout",
     "output_type": "stream",
     "text": [
      "Identity Matrix:\n",
      " [[1. 0. 0.]\n",
      " [0. 1. 0.]\n",
      " [0. 0. 1.]]\n"
     ]
    }
   ],
   "source": [
    "matrix = np.eye(3,3)\n",
    "print(\"Identity Matrix:\\n\", matrix)"
   ]
  },
  {
   "cell_type": "markdown",
   "id": "bcbd765f-0be9-4e58-8c97-a92503adc873",
   "metadata": {},
   "source": [
    "## Problem 2.4\n",
    "Create a random array of size 30 and find the mean of the array.\n",
    "{Hint:check for np.random.random() and array.mean() function}"
   ]
  },
  {
   "cell_type": "code",
   "execution_count": 28,
   "id": "354f6387-e600-4938-bd29-2a62a32c3c3e",
   "metadata": {
    "scrolled": true
   },
   "outputs": [
    {
     "name": "stdout",
     "output_type": "stream",
     "text": [
      "Array:\n",
      " [0.79339552 0.10875544 0.56997372 0.37412836 0.58719654 0.91596941\n",
      " 0.70173309 0.83046569 0.25949898 0.75880668 0.04576246 0.5818151\n",
      " 0.42196044 0.64752093 0.39052734 0.54825208 0.54204233 0.90857432\n",
      " 0.40288781 0.59257285 0.87980265 0.87919832 0.29563457 0.26956114\n",
      " 0.13641147 0.30808078 0.55135345 0.80453163 0.15262882 0.91100158]\n",
      "Mean of the given array is:  0.5390014505818043\n"
     ]
    }
   ],
   "source": [
    "import random\n",
    "arr = np.random.random(30)\n",
    "mean = arr.mean()\n",
    "\n",
    "print(\"Array:\\n\", arr)\n",
    "print(\"Mean of the given array is: \", mean)"
   ]
  },
  {
   "cell_type": "markdown",
   "id": "af0bc33c-7d88-47be-8cfa-894cc6b99e44",
   "metadata": {},
   "source": [
    "## Problem 2.5\n",
    "Create a 10X10 array with random values and find the minimum and maximum values.\n"
   ]
  },
  {
   "cell_type": "code",
   "execution_count": 29,
   "id": "19a556da-1bb0-4219-a076-e6e29b93fa83",
   "metadata": {
    "scrolled": true
   },
   "outputs": [
    {
     "name": "stdout",
     "output_type": "stream",
     "text": [
      "Random array:\n",
      " [[  4 495 480 178 353  48 148 154 345 188]\n",
      " [129 158 408 351   1 309 180 270 467 126]\n",
      " [285 123  75 345 245 343  49  98  11 488]\n",
      " [348  89 398 327 114 234 294  32 103 247]\n",
      " [152 403 445 362  59  84 407 452 173 283]\n",
      " [324 287 113 202 379 423 412 319 267 163]\n",
      " [440 349 119  75 229 189 398 330 415  54]\n",
      " [487 150  16 394 422 216 278 125  38 335]\n",
      " [426 202 428  35 271 209 305 326 146 170]\n",
      " [ 64 239 412 420 387 402 443 191 218 130]]\n",
      "Maximum value in the array is: 495\n",
      "Minimum value in the array is: 1\n"
     ]
    }
   ],
   "source": [
    "arr = np.random.randint(0,500,(10,10))\n",
    "min_value = arr.min()\n",
    "max_value = arr.max()\n",
    "\n",
    "print(\"Random array:\\n\",arr)\n",
    "print(\"Maximum value in the array is:\", max_value)\n",
    "print(\"Minimum value in the array is:\", min_value)"
   ]
  },
  {
   "cell_type": "markdown",
   "id": "ba9e0c59-bbe4-4ccc-a2f7-bf62b7849656",
   "metadata": {},
   "source": [
    "## Problem 2.6\n",
    "Create a zero array of size 10 and replace 5th element with 1.\n"
   ]
  },
  {
   "cell_type": "code",
   "execution_count": 30,
   "id": "d1a4b288-2dc8-4741-9768-327d152c330a",
   "metadata": {},
   "outputs": [
    {
     "name": "stdout",
     "output_type": "stream",
     "text": [
      "[0. 0. 0. 0. 1. 0. 0. 0. 0. 0.]\n"
     ]
    }
   ],
   "source": [
    "arr = np.zeros(10)\n",
    "arr[4] = 1\n",
    "print(arr)"
   ]
  },
  {
   "cell_type": "markdown",
   "id": "73f222fd-1fdc-4853-97e8-b8ccd3f9eb86",
   "metadata": {},
   "source": [
    "## Problem 2.7\n",
    "Reverse an array arr = [1,2,0,0,4,0]."
   ]
  },
  {
   "cell_type": "code",
   "execution_count": 31,
   "id": "66b281b5-55dd-4a71-b527-f883bc07ed4f",
   "metadata": {},
   "outputs": [
    {
     "name": "stdout",
     "output_type": "stream",
     "text": [
      "Given array:\n",
      " [1, 2, 0, 0, 4, 0]\n",
      "Reverse array:\n",
      " [0, 4, 0, 0, 2, 1]\n"
     ]
    }
   ],
   "source": [
    "arr = [1,2,0,0,4,0]\n",
    "rev_arr = arr[::-1]\n",
    "print(\"Given array:\\n\",arr)\n",
    "print(\"Reverse array:\\n\", rev_arr)"
   ]
  },
  {
   "cell_type": "markdown",
   "id": "5c4ca134-95d9-482d-99d2-0e548bc96ffb",
   "metadata": {},
   "source": [
    "## Problem 2.8\n",
    "Create a 2d array with 1 on border and 0 inside"
   ]
  },
  {
   "cell_type": "code",
   "execution_count": 32,
   "id": "ece120ad-9238-4ee2-92cd-aa792d8cbaa8",
   "metadata": {},
   "outputs": [
    {
     "name": "stdin",
     "output_type": "stream",
     "text": [
      "Enter the number of rows: 4\n",
      "ENter the number of collumns: 5\n"
     ]
    },
    {
     "name": "stdout",
     "output_type": "stream",
     "text": [
      "Array with 1 on border and 0 inside:\n",
      " [[1 1 1 1 1]\n",
      " [1 0 0 0 1]\n",
      " [1 0 0 0 1]\n",
      " [1 1 1 1 1]]\n"
     ]
    }
   ],
   "source": [
    "rows = int(input(\"Enter the number of rows:\"))\n",
    "cols = int(input(\"ENter the number of collumns:\"))\n",
    "\n",
    "arr = np.ones((rows, cols), dtype=int)\n",
    "arr[1:-1,1:-1] = 0\n",
    "\n",
    "print(\"Array with 1 on border and 0 inside:\\n\",arr)"
   ]
  },
  {
   "cell_type": "markdown",
   "id": "3f55a0e4-07df-4416-960c-788059fe6950",
   "metadata": {},
   "source": [
    "## Problem 2.9\n",
    "Create a 8X8 matrix and fill it with a checkerboard pattern"
   ]
  },
  {
   "cell_type": "code",
   "execution_count": 33,
   "id": "02a4aecb-44a6-4dca-b068-a0f16c25ba81",
   "metadata": {},
   "outputs": [
    {
     "name": "stdout",
     "output_type": "stream",
     "text": [
      "Checkerboard pattern:\n",
      " [[1 0 1 0 1 0 1 0]\n",
      " [0 1 0 1 0 1 0 1]\n",
      " [1 0 1 0 1 0 1 0]\n",
      " [0 1 0 1 0 1 0 1]\n",
      " [1 0 1 0 1 0 1 0]\n",
      " [0 1 0 1 0 1 0 1]\n",
      " [1 0 1 0 1 0 1 0]\n",
      " [0 1 0 1 0 1 0 1]]\n"
     ]
    }
   ],
   "source": [
    "matrix = np.zeros((8,8), dtype = int)\n",
    "matrix[::2,::2] = 1\n",
    "matrix[1::2, 1::2] = 1\n",
    "\n",
    "print(\"Checkerboard pattern:\\n\", matrix)"
   ]
  },
  {
   "cell_type": "markdown",
   "id": "e4f5be52-4981-4b30-befd-5d09b0a8df74",
   "metadata": {},
   "source": [
    "## Problem 3: Array Operations"
   ]
  },
  {
   "cell_type": "code",
   "execution_count": 34,
   "id": "c578c61a-170d-415c-bc3e-269382a51649",
   "metadata": {},
   "outputs": [],
   "source": [
    "x = np.array([[1,2],[3,5]])\n",
    "y = np.array([[5,6],[7,8]])\n",
    "v = np.array([9,10])\n",
    "w = np.array([11,12])"
   ]
  },
  {
   "cell_type": "markdown",
   "id": "60ccc6fa-9742-4502-9026-950fe8cd088e",
   "metadata": {},
   "source": [
    "## Problem 3.1\n",
    "Add two array"
   ]
  },
  {
   "cell_type": "code",
   "execution_count": 35,
   "id": "494961c8-eb31-4915-8eb3-db8a2462faec",
   "metadata": {},
   "outputs": [
    {
     "name": "stdout",
     "output_type": "stream",
     "text": [
      "The sum of x and y is: [[ 6  8]\n",
      " [10 13]]\n",
      "The sum of v and w is: [20 22]\n"
     ]
    }
   ],
   "source": [
    "# addition of x and y\n",
    "sum_1 = x+y\n",
    "print(\"The sum of x and y is:\", sum_1)\n",
    "\n",
    "# addtion of v and w \n",
    "sum_2 = v+w\n",
    "print(\"The sum of v and w is:\", sum_2)"
   ]
  },
  {
   "cell_type": "markdown",
   "id": "62816c3d-42ff-4fb9-b823-cbe760c077d1",
   "metadata": {},
   "source": [
    "## Problem 3.2\n",
    "Subtract the two array"
   ]
  },
  {
   "cell_type": "code",
   "execution_count": 36,
   "id": "0cf405cb-6724-46ec-9c23-a2ee134636a2",
   "metadata": {},
   "outputs": [
    {
     "name": "stdout",
     "output_type": "stream",
     "text": [
      "The difference of x and y is: [[-4 -4]\n",
      " [-4 -3]]\n",
      "The difference of v and w is: [-2 -2]\n"
     ]
    }
   ],
   "source": [
    "# subtraction of x and y\n",
    "diff_1 = x-y\n",
    "print(\"The difference of x and y is:\", diff_1)\n",
    "\n",
    "# subtraction of v and w\n",
    "diff_2 = v-w\n",
    "print(\"The difference of v and w is:\", diff_2)"
   ]
  },
  {
   "cell_type": "markdown",
   "id": "6d42a56d-6e99-44fc-9bba-3eb3fc0e91a7",
   "metadata": {},
   "source": [
    "## Problem 3.3\n",
    "Multiply the array with any integers of your choice"
   ]
  },
  {
   "cell_type": "code",
   "execution_count": 37,
   "id": "121af468-590e-41e3-9eb7-ec838c1db79f",
   "metadata": {},
   "outputs": [
    {
     "name": "stdin",
     "output_type": "stream",
     "text": [
      "Enter a number of your choice 5\n"
     ]
    },
    {
     "name": "stdout",
     "output_type": "stream",
     "text": [
      "Multiplication of array x: [[ 5 10]\n",
      " [15 25]]\n",
      "Multiplication of array y: [[ 5 10]\n",
      " [15 25]]\n",
      "Multiplication of array : [45 50]\n",
      "Multiplication of array x: [55 60]\n"
     ]
    }
   ],
   "source": [
    "num = int(input(\"Enter a number of your choice\"))\n",
    "\n",
    "mul_x = x * num\n",
    "print(\"Multiplication of array x:\", mul_x)\n",
    "\n",
    "mul_y = x * num\n",
    "print(\"Multiplication of array y:\", mul_y)\n",
    "\n",
    "mul_v = v * num\n",
    "print(\"Multiplication of array :\", mul_v)\n",
    "\n",
    "mul_w = w * num\n",
    "print(\"Multiplication of array x:\", mul_w)"
   ]
  },
  {
   "cell_type": "markdown",
   "id": "3fe66393-8e7d-47e9-8c99-eb255d290da0",
   "metadata": {},
   "source": [
    "## Problem 3.4\n",
    "Find the squre of each element of the array"
   ]
  },
  {
   "cell_type": "code",
   "execution_count": 38,
   "id": "0495d250-d5f0-4de0-bd38-c83b8cd378c0",
   "metadata": {},
   "outputs": [
    {
     "name": "stdout",
     "output_type": "stream",
     "text": [
      "Multiplication of array x: [[ 1  4]\n",
      " [ 9 25]]\n",
      "Multiplication of array y: [[25 36]\n",
      " [49 64]]\n",
      "Multiplication of array v: [ 81 100]\n",
      "Multiplication of array w: [121 144]\n"
     ]
    }
   ],
   "source": [
    "sq_x = x ** 2\n",
    "print(\"Multiplication of array x:\", sq_x)\n",
    "\n",
    "sq_y = y ** 2\n",
    "print(\"Multiplication of array y:\", sq_y)\n",
    "\n",
    "sq_v = np.square(v)\n",
    "print(\"Multiplication of array v:\", sq_v)\n",
    "\n",
    "sq_w = np.square(w)\n",
    "print(\"Multiplication of array w:\", sq_w)"
   ]
  },
  {
   "cell_type": "markdown",
   "id": "a0cd443a-e18e-41f4-b7b4-473c1f7afb18",
   "metadata": {},
   "source": [
    "## Problem 3.5\n",
    "FInd the dot product between: v and w, x and v, x and y"
   ]
  },
  {
   "cell_type": "code",
   "execution_count": 39,
   "id": "fb098b66-f6dd-40d8-908f-390e7188b05f",
   "metadata": {},
   "outputs": [
    {
     "name": "stdout",
     "output_type": "stream",
     "text": [
      "Dot product of v and w is: 219\n",
      "Dot product of x and v is: [29 77]\n",
      "Dot product of x and y is: [[19 22]\n",
      " [50 58]]\n"
     ]
    }
   ],
   "source": [
    "dot_vw = np.dot(v,w)\n",
    "print(\"Dot product of v and w is:\", dot_vw)\n",
    "\n",
    "dot_xv = np.dot(x,v)\n",
    "print(\"Dot product of x and v is:\", dot_xv)\n",
    "\n",
    "dot_xy = np.dot(x, y)\n",
    "print(\"Dot product of x and y is:\", dot_xy)"
   ]
  },
  {
   "cell_type": "markdown",
   "id": "21a5bea6-3018-480c-8371-4db858cf2a0c",
   "metadata": {},
   "source": [
    "## Problem 3.6\n",
    "Concatenate x and y along row and concatenate v and w along column."
   ]
  },
  {
   "cell_type": "code",
   "execution_count": 40,
   "id": "f648f633-3284-40b7-b207-1d73e9033857",
   "metadata": {},
   "outputs": [
    {
     "name": "stdout",
     "output_type": "stream",
     "text": [
      "Concatenated x and y along row: [[1 2]\n",
      " [3 5]\n",
      " [5 6]\n",
      " [7 8]]\n",
      "Concatenated v and w along column: [[ 9 10]\n",
      " [11 12]]\n"
     ]
    }
   ],
   "source": [
    "concatenate_xy = np.concatenate((x,y), axis = 0)\n",
    "print(\"Concatenated x and y along row:\", concatenate_xy)\n",
    "\n",
    "concatenate_vw = np.vstack((v,w))\n",
    "print(\"Concatenated v and w along column:\", concatenate_vw)\n"
   ]
  },
  {
   "cell_type": "markdown",
   "id": "09f7d5a9-1a49-4eef-b29f-054ed7603089",
   "metadata": {},
   "source": [
    "## Problem 3.7\n",
    "Concatenate x and v; if you get an error, observe and explain why did you get the error"
   ]
  },
  {
   "cell_type": "code",
   "execution_count": 41,
   "id": "7527b450-8e61-4703-b15b-2cf5f3045133",
   "metadata": {},
   "outputs": [
    {
     "name": "stdout",
     "output_type": "stream",
     "text": [
      "Error concatenationg x and v: all the input arrays must have same number of dimensions, but the array at index 0 has 2 dimension(s) and the array at index 1 has 1 dimension(s)\n"
     ]
    }
   ],
   "source": [
    "try:\n",
    "    np.concatenate((x,v))\n",
    "except ValueError as e:\n",
    "    error_msg = e\n",
    "    print(\"Error concatenationg x and v:\", error_msg)"
   ]
  },
  {
   "cell_type": "markdown",
   "id": "9f209344-fe48-404b-a664-af55d6a2c417",
   "metadata": {},
   "source": [
    "The x and v could not be concatenated because the dimension of both the matrix is different."
   ]
  },
  {
   "cell_type": "markdown",
   "id": "7849d60b-1a74-42d1-9ab3-9a6b6602b3eb",
   "metadata": {},
   "source": [
    "## Problem 4 : Matrix Operations"
   ]
  },
  {
   "cell_type": "code",
   "execution_count": 42,
   "id": "396fd6ee-dac9-4a74-b2a1-179028a78402",
   "metadata": {},
   "outputs": [],
   "source": [
    "A = np.array([[3,4],[7,8]]) \n",
    "B = np.array([[5,3],[2,1]])"
   ]
  },
  {
   "cell_type": "markdown",
   "id": "5806a70f-33a7-4d66-a746-767a6241f053",
   "metadata": {},
   "source": [
    "## Problem 4.1\n",
    "### Prove A.A^(−1) = I"
   ]
  },
  {
   "cell_type": "code",
   "execution_count": 43,
   "id": "3c74c457-5999-443c-bad6-47ae1b25e623",
   "metadata": {},
   "outputs": [
    {
     "name": "stdout",
     "output_type": "stream",
     "text": [
      "1. A.A^-1 = I:\n",
      " [[1.0000000e+00 4.4408921e-16]\n",
      " [0.0000000e+00 1.0000000e+00]]\n",
      "   Is close to identity matrix: True\n"
     ]
    }
   ],
   "source": [
    "A_inv = np.linalg.inv(A)\n",
    "I = np.dot(A, A_inv)\n",
    "print(\"1. A.A^-1 = I:\\n\", I)\n",
    "print(\"   Is close to identity matrix:\", np.allclose(I, np.eye(2)))"
   ]
  },
  {
   "cell_type": "markdown",
   "id": "c4221f5a-1ab3-46e3-a120-f7cb72047286",
   "metadata": {},
   "source": [
    "## Problem 4.2\n",
    "### Prove AB != BA"
   ]
  },
  {
   "cell_type": "code",
   "execution_count": 44,
   "id": "fb5d781f-44ec-49d2-9308-e70129637f2f",
   "metadata": {},
   "outputs": [
    {
     "name": "stdout",
     "output_type": "stream",
     "text": [
      "\n",
      "2. AB:\n",
      " [[23 13]\n",
      " [51 29]]\n",
      "   BA:\n",
      " [[36 44]\n",
      " [13 16]]\n",
      "   AB != BA: True\n"
     ]
    }
   ],
   "source": [
    "AB = np.dot(A, B)\n",
    "BA = np.dot(B, A)\n",
    "print(\"\\n2. AB:\\n\", AB)\n",
    "print(\"   BA:\\n\", BA)\n",
    "print(\"   AB != BA:\", not np.array_equal(AB, BA))"
   ]
  },
  {
   "cell_type": "markdown",
   "id": "c666525f-b053-4d36-aff0-f45d8f7b3f46",
   "metadata": {},
   "source": [
    "## Problem 4.3\n",
    "### Prove (AB)^T = (B^T)*(A^T)"
   ]
  },
  {
   "cell_type": "code",
   "execution_count": 45,
   "id": "8487fb8a-1885-41e8-80af-f1cf5584d6a7",
   "metadata": {},
   "outputs": [
    {
     "name": "stdout",
     "output_type": "stream",
     "text": [
      "(AB)^T == B^T * A^T True\n"
     ]
    }
   ],
   "source": [
    "AB_transpose = np.transpose(AB)\n",
    "B_tp_A_tp = np.dot(np.transpose(B), np.transpose(A))\n",
    "equal = np.array_equal(AB_transpose, B_tp_A_tp)\n",
    "\n",
    "print(\"(AB)^T == B^T * A^T\", equal)"
   ]
  },
  {
   "cell_type": "markdown",
   "id": "334fe8f1-dd17-4569-a7ea-b767a62677a8",
   "metadata": {},
   "source": [
    "## Problem 4.4\n",
    "Solve the following system of Linear equation using Inverse Methods.\n",
    "\n",
    "2x − 3y + z = −1\n",
    "\n",
    "x − y + 2z = −3\n",
    "\n",
    "3x + y − z = 9\n",
    "\n",
    "{Hint: First use Numpy array to represent the equation in Matrix form. Then Solve for: AX = B}\n",
    "\n",
    "•Now: solve the above equation using np.linalg.inv function.{Explore more about ”linalg” func-\n",
    "tion of Numpy}"
   ]
  },
  {
   "cell_type": "code",
   "execution_count": 46,
   "id": "4a9a0dfe-4ec2-4b7f-a074-6c652e9e4013",
   "metadata": {},
   "outputs": [
    {
     "name": "stdout",
     "output_type": "stream",
     "text": [
      "Solution  the system of equation is: [ 2.  1. -2.]\n"
     ]
    }
   ],
   "source": [
    "# 2x − 3y + z = −1\n",
    "# x − y + 2z = −3\n",
    "# 3x + y − z = 9\n",
    "A_eq = np.array([[2, -3, 1], [1, -1, 2], [3, 1, -1]])\n",
    "B_eq = np.array([-1, -3, 9])\n",
    "\n",
    "A_eq_inv = np.linalg.inv(A_eq)\n",
    "result = np.dot(A_eq_inv, B_eq)\n",
    "\n",
    "print(\"Solution  the system of equation is:\", result)"
   ]
  },
  {
   "cell_type": "markdown",
   "id": "05b41bff-335a-40b3-8d7f-8c01d45b6854",
   "metadata": {},
   "source": [
    "## Experiment"
   ]
  },
  {
   "cell_type": "markdown",
   "id": "3e7980b5-96ab-4786-9d34-d7ce9ce165e6",
   "metadata": {},
   "source": [
    "## Element wise Addition\n",
    "\n",
    "• Using Python Lists, perform element-wise addition of two lists of size 1, 000, 000. Measure\n",
    "and Print the time taken for this operation.\n",
    "\n",
    "• Using Numpy Arrays, Repeat the calculation and measure and print the time taken for\n",
    "this operation."
   ]
  },
  {
   "cell_type": "code",
   "execution_count": 47,
   "id": "1e73835a-c46e-4762-971e-e474a0f0a2b9",
   "metadata": {},
   "outputs": [
    {
     "name": "stdout",
     "output_type": "stream",
     "text": [
      "Time taken by list: 0.065636 seconds\n",
      "Time taken by array: 0.000000 seconds\n"
     ]
    }
   ],
   "source": [
    "import time \n",
    "\n",
    "def list_addition(list1, list2):\n",
    "    result = []\n",
    "    for i in range(len(list1)):\n",
    "        result.append(list1[i]+list2[i])\n",
    "    return result\n",
    "\n",
    "def array_addition(arr1, arr2):\n",
    "    return arr1 + arr2\n",
    "    \n",
    "size = 1000000\n",
    "\n",
    "list1 = list(range(size))\n",
    "list2 = list(range(size))\n",
    "list_start_time = time.time()\n",
    "list_result = list_addition(list1, list2)\n",
    "list_end_time = time.time()\n",
    "list_time = list_end_time-list_start_time\n",
    "\n",
    "array1 = np.arange(size)\n",
    "array2 = np.arange(size)\n",
    "arr_start_time = time.time()\n",
    "arr_result = array_addition(array1, array2)\n",
    "arr_end_time = time.time()\n",
    "arr_time = arr_end_time - arr_start_time\n",
    "\n",
    "print(f\"Time taken by list: {list_time:.6f} seconds\")\n",
    "print(f\"Time taken by array: {arr_time:.6f} seconds\")"
   ]
  },
  {
   "cell_type": "markdown",
   "id": "8957e133-b5b6-4bd9-8391-5b650896dd81",
   "metadata": {},
   "source": [
    "## Element wise Multiplication\n",
    "• Using Python Lists, perform element-wise multiplication of two lists of size 1, 000, 000.\n",
    "Measure and Print the time taken for this operation.\n",
    "\n",
    "• Using Numpy Arrays, Repeat the calculation and measure and print the time taken for\n",
    "this operation."
   ]
  },
  {
   "cell_type": "code",
   "execution_count": 48,
   "id": "7a4e99c9-85c4-4794-ad3f-55b006f1177b",
   "metadata": {},
   "outputs": [
    {
     "name": "stdout",
     "output_type": "stream",
     "text": [
      "Time taken by list: 0.064987 seconds\n",
      "Time taken by array: 0.000000 seconds\n"
     ]
    }
   ],
   "source": [
    "def list_multiplication(list1, list2):\n",
    "    result = []\n",
    "    for i in range(len(list1)):\n",
    "        result.append(list1[i]*list2[i])\n",
    "    return result\n",
    "\n",
    "def array_multiplication(arr1, arr2):\n",
    "    return arr1 * arr2\n",
    "    \n",
    "size = 1000000\n",
    "\n",
    "list1 = list(range(size))\n",
    "list2 = list(range(size))\n",
    "list_start_time = time.time()\n",
    "list_result = list_multiplication(list1, list2)\n",
    "list_end_time = time.time()\n",
    "list_time = list_end_time-list_start_time\n",
    "\n",
    "array1 = np.arange(size)\n",
    "array2 = np.arange(size)\n",
    "arr_start_time = time.time()\n",
    "arr_result = array_multiplication(array1, array2)\n",
    "arr_end_time = time.time()\n",
    "arr_time = arr_end_time - arr_start_time\n",
    "\n",
    "print(f\"Time taken by list: {list_time:.6f} seconds\")\n",
    "print(f\"Time taken by array: {arr_time:.6f} seconds\")"
   ]
  },
  {
   "cell_type": "markdown",
   "id": "60533ed2-8c69-4e58-89f0-79211031d777",
   "metadata": {},
   "source": [
    "## Dot Product\n",
    "• Using Python Lists, compute the dot product of two lists of size 1, 000, 000. Measure and\n",
    "Print the time taken for this operation.\n",
    "\n",
    "• Using Numpy Arrays, Repeat the calculation and measure and print the time taken for\n",
    "this operation."
   ]
  },
  {
   "cell_type": "code",
   "execution_count": 49,
   "id": "cfdac83c-9b98-4202-a411-00d71b34ad4a",
   "metadata": {},
   "outputs": [
    {
     "name": "stdout",
     "output_type": "stream",
     "text": [
      "Time taken by list: 0.063664 seconds\n",
      "Time taken by array: 0.000000 seconds\n"
     ]
    }
   ],
   "source": [
    "def list_dotproduct(list1, list2):\n",
    "    dp_list = 0\n",
    "    for i in range(len(list1)):\n",
    "        dp_list += list1[i] * list2[i]\n",
    "    return dp_list\n",
    "\n",
    "def array_dotproduct(arr1, arr2):\n",
    "    return np.dot(arr1, arr2)\n",
    "    \n",
    "size = 1000000\n",
    "\n",
    "list1 = list(range(size))\n",
    "list2 = list(range(size))\n",
    "list_start_time = time.time()\n",
    "list_result = list_dotproduct(list1, list2)\n",
    "list_end_time = time.time()\n",
    "list_time = list_end_time-list_start_time\n",
    "\n",
    "array1 = np.arange(size)\n",
    "array2 = np.arange(size)\n",
    "arr_start_time = time.time()\n",
    "arr_result = array_dotproduct(array1, array2)\n",
    "arr_end_time = time.time()\n",
    "arr_time = arr_end_time - arr_start_time\n",
    "\n",
    "print(f\"Time taken by list: {list_time:.6f} seconds\")\n",
    "print(f\"Time taken by array: {arr_time:.6f} seconds\")"
   ]
  },
  {
   "cell_type": "markdown",
   "id": "7bf624a3-447c-4199-850d-93af4a97b048",
   "metadata": {},
   "source": [
    "## Matrix Multiplication\n",
    "• Using Python lists, perform matrix multiplication of two matrices of size 1000x1000. Measure and print the time taken for this operation.\n",
    "\n",
    "• Using NumPy arrays, perform matrix multiplication of two matrices of size 1000x1000.\n",
    "Measure and print the time taken for this operation."
   ]
  },
  {
   "cell_type": "code",
   "execution_count": 51,
   "id": "74ef5e53-60a5-4240-b50c-0451a5c1411d",
   "metadata": {},
   "outputs": [
    {
     "name": "stdout",
     "output_type": "stream",
     "text": [
      "Time for list matrix multiplication is:92.863598 seconds\n",
      "Time for numpy matrix multiplication is:1.435318 seconds\n"
     ]
    }
   ],
   "source": [
    "def list_matrix_mul(mat1, mat2):\n",
    "    result = [[0 for _ in range(size)] for _ in range(size)] \n",
    "    for i in range(size):\n",
    "        for j in range(size):\n",
    "            for k in range(size):\n",
    "                result[i][j] += mat1[i][k] * mat2[k][j]\n",
    "\n",
    "    return result\n",
    "\n",
    "def numpy_matrix_mul(mat1, mat2):\n",
    "    return np.matmul(mat1, mat2)\n",
    "\n",
    "size = 1000\n",
    "\n",
    "# list1 = [[random.randint(1,100)]*size]*size\n",
    "# list2 = [[random.randint(1,100)]*size]*size\n",
    "\n",
    "matrix1 = [[random.randint(1, 100) for _ in range(size)] for _ in range(size)]\n",
    "matrix2 = [[random.randint(1, 100) for _ in range(size)] for _ in range(size)]\n",
    "\n",
    "\n",
    "list_start_time = time.time()\n",
    "list_mul = list_matrix_mul(matrix1, matrix2)\n",
    "list_end_time = time.time()\n",
    "list_time = list_end_time - list_start_time\n",
    "\n",
    "numpy_start_time = time.time()\n",
    "np_mul = numpy_matrix_mul(matrix1, matrix2)\n",
    "numpy_end_time = time.time()\n",
    "np_time = numpy_end_time - numpy_start_time\n",
    "\n",
    "\n",
    "print(f\"Time for list matrix multiplication is:{list_time:.6f} seconds\")\n",
    "print(f\"Time for numpy matrix multiplication is:{np_time:.6f} seconds\")\n",
    "\n"
   ]
  }
 ],
 "metadata": {
  "kernelspec": {
   "display_name": "Python 3 (ipykernel)",
   "language": "python",
   "name": "python3"
  },
  "language_info": {
   "codemirror_mode": {
    "name": "ipython",
    "version": 3
   },
   "file_extension": ".py",
   "mimetype": "text/x-python",
   "name": "python",
   "nbconvert_exporter": "python",
   "pygments_lexer": "ipython3",
   "version": "3.11.10"
  }
 },
 "nbformat": 4,
 "nbformat_minor": 5
}
